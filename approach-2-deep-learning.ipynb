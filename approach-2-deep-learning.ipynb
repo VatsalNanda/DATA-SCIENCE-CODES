{
 "cells": [
  {
   "cell_type": "code",
   "execution_count": 1,
   "id": "2f315e93",
   "metadata": {
    "_cell_guid": "b1076dfc-b9ad-4769-8c92-a6c4dae69d19",
    "_uuid": "8f2839f25d086af736a60e9eeb907d3b93b6e0e5",
    "execution": {
     "iopub.execute_input": "2022-05-07T08:38:02.280911Z",
     "iopub.status.busy": "2022-05-07T08:38:02.279948Z",
     "iopub.status.idle": "2022-05-07T08:38:02.296221Z",
     "shell.execute_reply": "2022-05-07T08:38:02.297276Z",
     "shell.execute_reply.started": "2022-05-07T08:32:34.731793Z"
    },
    "papermill": {
     "duration": 0.062693,
     "end_time": "2022-05-07T08:38:02.297677",
     "exception": false,
     "start_time": "2022-05-07T08:38:02.234984",
     "status": "completed"
    },
    "tags": []
   },
   "outputs": [
    {
     "name": "stdout",
     "output_type": "stream",
     "text": [
      "/kaggle/input/sentiment-analysis-on-movie-reviews/sampleSubmission.csv\n",
      "/kaggle/input/sentiment-analysis-on-movie-reviews/train.tsv.zip\n",
      "/kaggle/input/sentiment-analysis-on-movie-reviews/test.tsv.zip\n"
     ]
    }
   ],
   "source": [
    "# This Python 3 environment comes with many helpful analytics libraries installed\n",
    "# It is defined by the kaggle/python Docker image: https://github.com/kaggle/docker-python\n",
    "# For example, here's several helpful packages to load\n",
    "\n",
    "import numpy as np # linear algebra\n",
    "import pandas as pd # data processing, CSV file I/O (e.g. pd.read_csv)\n",
    "\n",
    "# Input data files are available in the read-only \"../input/\" directory\n",
    "# For example, running this (by clicking run or pressing Shift+Enter) will list all files under the input directory\n",
    "\n",
    "import os\n",
    "for dirname, _, filenames in os.walk('/kaggle/input'):\n",
    "    for filename in filenames:\n",
    "        print(os.path.join(dirname, filename))\n",
    "\n",
    "# You can write up to 20GB to the current directory (/kaggle/working/) that gets preserved as output when you create a version using \"Save & Run All\" \n",
    "# You can also write temporary files to /kaggle/temp/, but they won't be saved outside of the current session"
   ]
  },
  {
   "cell_type": "code",
   "execution_count": 2,
   "id": "23f0915c",
   "metadata": {
    "execution": {
     "iopub.execute_input": "2022-05-07T08:38:02.390577Z",
     "iopub.status.busy": "2022-05-07T08:38:02.389533Z",
     "iopub.status.idle": "2022-05-07T08:38:10.613309Z",
     "shell.execute_reply": "2022-05-07T08:38:10.612646Z",
     "shell.execute_reply.started": "2022-05-07T08:32:34.767050Z"
    },
    "papermill": {
     "duration": 8.269935,
     "end_time": "2022-05-07T08:38:10.613492",
     "exception": false,
     "start_time": "2022-05-07T08:38:02.343557",
     "status": "completed"
    },
    "tags": []
   },
   "outputs": [],
   "source": [
    "import pandas as pd\n",
    "import numpy as np \n",
    "import matplotlib.pyplot as plt\n",
    "import seaborn as sns\n",
    "\n",
    "\n",
    "#Text Preprocessing Libraries\n",
    "import nltk\n",
    "from nltk.corpus import stopwords\n",
    "from nltk.stem.porter import PorterStemmer\n",
    "from nltk.tokenize import word_tokenize\n",
    "from sklearn.feature_extraction.text import TfidfVectorizer,CountVectorizer\n",
    "import re\n",
    "import string\n",
    "from sklearn.preprocessing import LabelEncoder\n",
    "from sklearn.model_selection import train_test_split\n",
    "\n",
    "from nltk.tokenize import word_tokenize\n",
    "from nltk import FreqDist\n",
    "from nltk.stem import SnowballStemmer,WordNetLemmatizer\n",
    "\n",
    "#Deep Learning Libraries\n",
    "import keras\n",
    "from tensorflow.keras.preprocessing import sequence\n",
    "from tensorflow.keras.models import Sequential\n",
    "from tensorflow.keras.layers import Dense, Embedding\n",
    "from tensorflow.keras.layers import LSTM,GRU\n",
    "from tensorflow.keras.utils import to_categorical\n",
    "from tensorflow.keras.preprocessing.text import Tokenizer\n",
    "from tensorflow.keras.preprocessing.sequence import pad_sequences\n",
    "from keras.models import Sequential\n",
    "from keras.layers import Dense\n",
    "from keras.layers import LSTM\n",
    "from keras.layers import Activation\n",
    "from keras.layers import Embedding\n",
    "from keras.layers import Bidirectional\n",
    "from tensorflow.keras.optimizers import Adam\n",
    "from keras.preprocessing import sequence\n",
    "from keras.preprocessing.text import Tokenizer\n",
    "from keras.layers import Dense,Dropout,Embedding,LSTM\n",
    "from keras.callbacks import EarlyStopping\n",
    "from keras.losses import categorical_crossentropy\n",
    "from tensorflow.keras.optimizers import Adam\n",
    "from keras.models import Sequential\n",
    "import tensorflow_hub as hub\n",
    "from keras.models import Sequential\n",
    "from keras.layers import Dense, LSTM, Conv1D, MaxPool1D, Dropout\n",
    "from keras.layers.embeddings import Embedding\n",
    "from keras.callbacks import EarlyStopping"
   ]
  },
  {
   "cell_type": "code",
   "execution_count": 3,
   "id": "775d49e6",
   "metadata": {
    "execution": {
     "iopub.execute_input": "2022-05-07T08:38:10.688645Z",
     "iopub.status.busy": "2022-05-07T08:38:10.687841Z",
     "iopub.status.idle": "2022-05-07T08:38:11.027699Z",
     "shell.execute_reply": "2022-05-07T08:38:11.027140Z",
     "shell.execute_reply.started": "2022-05-07T08:34:48.167393Z"
    },
    "papermill": {
     "duration": 0.380003,
     "end_time": "2022-05-07T08:38:11.027856",
     "exception": false,
     "start_time": "2022-05-07T08:38:10.647853",
     "status": "completed"
    },
    "tags": []
   },
   "outputs": [],
   "source": [
    "train=pd.read_csv('/kaggle/input/sentiment-analysis-on-movie-reviews/train.tsv.zip',sep='\\t')\n",
    "test=pd.read_csv('/kaggle/input/sentiment-analysis-on-movie-reviews/test.tsv.zip',sep='\\t')"
   ]
  },
  {
   "cell_type": "code",
   "execution_count": 4,
   "id": "b6282e04",
   "metadata": {
    "execution": {
     "iopub.execute_input": "2022-05-07T08:38:11.116340Z",
     "iopub.status.busy": "2022-05-07T08:38:11.115199Z",
     "iopub.status.idle": "2022-05-07T08:38:11.119586Z",
     "shell.execute_reply": "2022-05-07T08:38:11.120214Z",
     "shell.execute_reply.started": "2022-05-07T08:34:49.494357Z"
    },
    "papermill": {
     "duration": 0.059526,
     "end_time": "2022-05-07T08:38:11.120427",
     "exception": false,
     "start_time": "2022-05-07T08:38:11.060901",
     "status": "completed"
    },
    "tags": []
   },
   "outputs": [
    {
     "data": {
      "text/plain": [
       "2    79582\n",
       "3    32927\n",
       "1    27273\n",
       "4     9206\n",
       "0     7072\n",
       "Name: Sentiment, dtype: int64"
      ]
     },
     "execution_count": 4,
     "metadata": {},
     "output_type": "execute_result"
    }
   ],
   "source": [
    "train['Sentiment'].value_counts()"
   ]
  },
  {
   "cell_type": "code",
   "execution_count": 5,
   "id": "b33a7160",
   "metadata": {
    "execution": {
     "iopub.execute_input": "2022-05-07T08:38:11.198423Z",
     "iopub.status.busy": "2022-05-07T08:38:11.197273Z",
     "iopub.status.idle": "2022-05-07T08:38:11.199753Z",
     "shell.execute_reply": "2022-05-07T08:38:11.200304Z",
     "shell.execute_reply.started": "2022-05-07T08:34:50.001978Z"
    },
    "papermill": {
     "duration": 0.044835,
     "end_time": "2022-05-07T08:38:11.200460",
     "exception": false,
     "start_time": "2022-05-07T08:38:11.155625",
     "status": "completed"
    },
    "tags": []
   },
   "outputs": [],
   "source": [
    "def clean_sentences(df):\n",
    "    reviews = []\n",
    "    \n",
    "    for sent in df['Phrase']:       \n",
    "        #remove non-alphabetic characters\n",
    "        review_text = re.sub(\"[^a-zA-Z]\",\" \", sent)\n",
    "        \n",
    "        #tokenize the sentences\n",
    "        words = word_tokenize(review_text.lower())\n",
    "        \n",
    "        #lemmatize each word to its lemma\n",
    "        lemmatizer = WordNetLemmatizer()\n",
    "        lemma_words = [lemmatizer.lemmatize(i) for i in words]\n",
    "        \n",
    "        reviews.append(lemma_words)\n",
    "    \n",
    "    return(reviews)"
   ]
  },
  {
   "cell_type": "code",
   "execution_count": 6,
   "id": "537167c4",
   "metadata": {
    "execution": {
     "iopub.execute_input": "2022-05-07T08:38:11.275728Z",
     "iopub.status.busy": "2022-05-07T08:38:11.273521Z",
     "iopub.status.idle": "2022-05-07T08:38:58.221631Z",
     "shell.execute_reply": "2022-05-07T08:38:58.222758Z",
     "shell.execute_reply.started": "2022-05-07T08:35:05.519271Z"
    },
    "papermill": {
     "duration": 46.987968,
     "end_time": "2022-05-07T08:38:58.223030",
     "exception": false,
     "start_time": "2022-05-07T08:38:11.235062",
     "status": "completed"
    },
    "tags": []
   },
   "outputs": [
    {
     "name": "stdout",
     "output_type": "stream",
     "text": [
      "156060\n",
      "66292\n"
     ]
    }
   ],
   "source": [
    "train_sentences = clean_sentences(train)\n",
    "test_sentences = clean_sentences(test)\n",
    "\n",
    "print(len(train_sentences))\n",
    "print(len(test_sentences))"
   ]
  },
  {
   "cell_type": "code",
   "execution_count": 7,
   "id": "cf8a7acd",
   "metadata": {
    "execution": {
     "iopub.execute_input": "2022-05-07T08:38:58.301238Z",
     "iopub.status.busy": "2022-05-07T08:38:58.299054Z",
     "iopub.status.idle": "2022-05-07T08:38:58.304030Z",
     "shell.execute_reply": "2022-05-07T08:38:58.303498Z",
     "shell.execute_reply.started": "2022-05-07T08:35:43.057257Z"
    },
    "papermill": {
     "duration": 0.045432,
     "end_time": "2022-05-07T08:38:58.304205",
     "exception": false,
     "start_time": "2022-05-07T08:38:58.258773",
     "status": "completed"
    },
    "tags": []
   },
   "outputs": [
    {
     "name": "stdout",
     "output_type": "stream",
     "text": [
      "A series of escapades demonstrating the adage that what is good for the goose is also good for the gander , some of which occasionally amuses but none of which amounts to much of a story .\n",
      "a series of escapade demonstrating the adage that what is good for the goose is also good for the gander some of which occasionally amuses but none of which amount to much of a story\n"
     ]
    }
   ],
   "source": [
    "print(train['Phrase'][0])\n",
    "print(' '.join(train_sentences[0]))"
   ]
  },
  {
   "cell_type": "code",
   "execution_count": 8,
   "id": "5f854c91",
   "metadata": {
    "execution": {
     "iopub.execute_input": "2022-05-07T08:38:58.379802Z",
     "iopub.status.busy": "2022-05-07T08:38:58.378687Z",
     "iopub.status.idle": "2022-05-07T08:38:58.385713Z",
     "shell.execute_reply": "2022-05-07T08:38:58.385011Z",
     "shell.execute_reply.started": "2022-05-07T08:36:30.712075Z"
    },
    "papermill": {
     "duration": 0.046743,
     "end_time": "2022-05-07T08:38:58.385862",
     "exception": false,
     "start_time": "2022-05-07T08:38:58.339119",
     "status": "completed"
    },
    "tags": []
   },
   "outputs": [],
   "source": [
    "from tensorflow.keras.utils import to_categorical\n",
    "\n",
    "target = train.Sentiment.values\n",
    "y_target = to_categorical(target)\n",
    "\n",
    "# number of numerical values exist in y_target's column\n",
    "num_classes = y_target.shape[1]"
   ]
  },
  {
   "cell_type": "code",
   "execution_count": 9,
   "id": "4028b988",
   "metadata": {
    "execution": {
     "iopub.execute_input": "2022-05-07T08:38:58.458958Z",
     "iopub.status.busy": "2022-05-07T08:38:58.458210Z",
     "iopub.status.idle": "2022-05-07T08:38:58.462157Z",
     "shell.execute_reply": "2022-05-07T08:38:58.463003Z",
     "shell.execute_reply.started": "2022-05-07T08:36:30.951032Z"
    },
    "papermill": {
     "duration": 0.043331,
     "end_time": "2022-05-07T08:38:58.463228",
     "exception": false,
     "start_time": "2022-05-07T08:38:58.419897",
     "status": "completed"
    },
    "tags": []
   },
   "outputs": [
    {
     "name": "stdout",
     "output_type": "stream",
     "text": [
      "5\n"
     ]
    }
   ],
   "source": [
    "print(num_classes)"
   ]
  },
  {
   "cell_type": "code",
   "execution_count": 10,
   "id": "e64230fa",
   "metadata": {
    "execution": {
     "iopub.execute_input": "2022-05-07T08:38:58.539912Z",
     "iopub.status.busy": "2022-05-07T08:38:58.538809Z",
     "iopub.status.idle": "2022-05-07T08:38:58.542354Z",
     "shell.execute_reply": "2022-05-07T08:38:58.541846Z",
     "shell.execute_reply.started": "2022-05-07T08:36:31.578138Z"
    },
    "papermill": {
     "duration": 0.042983,
     "end_time": "2022-05-07T08:38:58.542481",
     "exception": false,
     "start_time": "2022-05-07T08:38:58.499498",
     "status": "completed"
    },
    "tags": []
   },
   "outputs": [],
   "source": [
    "from sklearn.model_selection import train_test_split\n"
   ]
  },
  {
   "cell_type": "code",
   "execution_count": 11,
   "id": "bcfba6f8",
   "metadata": {
    "execution": {
     "iopub.execute_input": "2022-05-07T08:38:58.619147Z",
     "iopub.status.busy": "2022-05-07T08:38:58.618008Z",
     "iopub.status.idle": "2022-05-07T08:39:00.047594Z",
     "shell.execute_reply": "2022-05-07T08:39:00.046884Z",
     "shell.execute_reply.started": "2022-05-07T08:36:33.223034Z"
    },
    "papermill": {
     "duration": 1.46985,
     "end_time": "2022-05-07T08:39:00.047757",
     "exception": false,
     "start_time": "2022-05-07T08:38:58.577907",
     "status": "completed"
    },
    "tags": []
   },
   "outputs": [],
   "source": [
    "X_train, X_val, y_train, y_val = train_test_split(train_sentences,\n",
    "                                                  y_target,\n",
    "                                                  test_size = 0.2,\n",
    "                                                  stratify = y_target)"
   ]
  },
  {
   "cell_type": "code",
   "execution_count": 12,
   "id": "ff2c0bf2",
   "metadata": {
    "execution": {
     "iopub.execute_input": "2022-05-07T08:39:00.148322Z",
     "iopub.status.busy": "2022-05-07T08:39:00.138112Z",
     "iopub.status.idle": "2022-05-07T08:39:00.301397Z",
     "shell.execute_reply": "2022-05-07T08:39:00.300743Z",
     "shell.execute_reply.started": "2022-05-07T08:36:34.911415Z"
    },
    "papermill": {
     "duration": 0.217898,
     "end_time": "2022-05-07T08:39:00.301536",
     "exception": false,
     "start_time": "2022-05-07T08:39:00.083638",
     "status": "completed"
    },
    "tags": []
   },
   "outputs": [
    {
     "name": "stdout",
     "output_type": "stream",
     "text": [
      "Number of vocabs:  13737\n",
      "Max length of text is:  48\n"
     ]
    }
   ],
   "source": [
    "unique_words = set()\n",
    "len_max = 0\n",
    "\n",
    "for sent in (X_train):\n",
    "    unique_words.update(sent)\n",
    "    if(len_max < len(sent)):\n",
    "        len_max = len(sent)\n",
    "\n",
    "# length of the list of unique_words \n",
    "print('Number of vocabs: ', len(list(unique_words)))\n",
    "print('Max length of text is: ', len_max)"
   ]
  },
  {
   "cell_type": "code",
   "execution_count": 13,
   "id": "7c8abfac",
   "metadata": {
    "execution": {
     "iopub.execute_input": "2022-05-07T08:39:00.380778Z",
     "iopub.status.busy": "2022-05-07T08:39:00.377280Z",
     "iopub.status.idle": "2022-05-07T08:39:00.383996Z",
     "shell.execute_reply": "2022-05-07T08:39:00.383299Z",
     "shell.execute_reply.started": "2022-05-07T08:36:35.105188Z"
    },
    "papermill": {
     "duration": 0.047029,
     "end_time": "2022-05-07T08:39:00.384137",
     "exception": false,
     "start_time": "2022-05-07T08:39:00.337108",
     "status": "completed"
    },
    "tags": []
   },
   "outputs": [],
   "source": [
    "vocab_size = len(list(unique_words))\n",
    "embedding_dim = 300\n",
    "max_length = len_max\n",
    "trunc_type='post'\n",
    "padding_type='post'\n",
    "oov_tok = \"<OOV>\""
   ]
  },
  {
   "cell_type": "code",
   "execution_count": 14,
   "id": "6d4827b7",
   "metadata": {
    "execution": {
     "iopub.execute_input": "2022-05-07T08:39:00.509062Z",
     "iopub.status.busy": "2022-05-07T08:39:00.502081Z",
     "iopub.status.idle": "2022-05-07T08:39:04.070293Z",
     "shell.execute_reply": "2022-05-07T08:39:04.070844Z",
     "shell.execute_reply.started": "2022-05-07T08:36:35.114435Z"
    },
    "papermill": {
     "duration": 3.634389,
     "end_time": "2022-05-07T08:39:04.071036",
     "exception": false,
     "start_time": "2022-05-07T08:39:00.436647",
     "status": "completed"
    },
    "tags": []
   },
   "outputs": [],
   "source": [
    "tokenizer = Tokenizer(num_words = vocab_size,\n",
    "                      # filters = '#$%&()*+,-./:;<=>?@[\\\\]^_`{|}~\\t\\n',\n",
    "                      oov_token = oov_tok,\n",
    "                      # lower = True,\n",
    "                      char_level = False)\n",
    "\n",
    "tokenizer.fit_on_texts(list(X_train))\n",
    "\n",
    "# Training\n",
    "X_train = tokenizer.texts_to_sequences(X_train)\n",
    "X_train = pad_sequences(X_train,\n",
    "                        maxlen = max_length,\n",
    "                        padding = padding_type,\n",
    "                        truncating = trunc_type)\n",
    "\n",
    "# Validation\n",
    "X_val = tokenizer.texts_to_sequences(X_val)\n",
    "X_val = pad_sequences(X_val,\n",
    "                      maxlen = max_length,\n",
    "                      padding = padding_type,\n",
    "                      truncating = trunc_type)\n",
    "\n",
    "# Testing\n",
    "X_test = tokenizer.texts_to_sequences(test_sentences)\n",
    "X_test = pad_sequences(X_test,\n",
    "                       maxlen = max_length,\n",
    "                       padding = padding_type,\n",
    "                       truncating = trunc_type)"
   ]
  },
  {
   "cell_type": "code",
   "execution_count": 15,
   "id": "b825436d",
   "metadata": {
    "execution": {
     "iopub.execute_input": "2022-05-07T08:39:04.150768Z",
     "iopub.status.busy": "2022-05-07T08:39:04.149671Z",
     "iopub.status.idle": "2022-05-07T08:39:04.155434Z",
     "shell.execute_reply": "2022-05-07T08:39:04.154728Z",
     "shell.execute_reply.started": "2022-05-07T08:36:38.297760Z"
    },
    "papermill": {
     "duration": 0.04869,
     "end_time": "2022-05-07T08:39:04.155572",
     "exception": false,
     "start_time": "2022-05-07T08:39:04.106882",
     "status": "completed"
    },
    "tags": []
   },
   "outputs": [
    {
     "name": "stdout",
     "output_type": "stream",
     "text": [
      "X_training shape   :  (124848, 48)\n",
      "X_validation shape :  (31212, 48)\n",
      "X_testing shape    :  (66292, 48)\n"
     ]
    }
   ],
   "source": [
    "print(\"X_training shape   : \",X_train.shape)\n",
    "print(\"X_validation shape : \",X_val.shape)\n",
    "print(\"X_testing shape    : \",X_test.shape)"
   ]
  },
  {
   "cell_type": "markdown",
   "id": "e41a0466",
   "metadata": {
    "papermill": {
     "duration": 0.036738,
     "end_time": "2022-05-07T08:39:04.229388",
     "exception": false,
     "start_time": "2022-05-07T08:39:04.192650",
     "status": "completed"
    },
    "tags": []
   },
   "source": [
    "**2) DEEP LEARNING APPROACH**"
   ]
  },
  {
   "cell_type": "code",
   "execution_count": 16,
   "id": "b42ef8c4",
   "metadata": {
    "execution": {
     "iopub.execute_input": "2022-05-07T08:39:04.309430Z",
     "iopub.status.busy": "2022-05-07T08:39:04.308379Z",
     "iopub.status.idle": "2022-05-07T08:39:04.311023Z",
     "shell.execute_reply": "2022-05-07T08:39:04.311571Z",
     "shell.execute_reply.started": "2022-05-07T08:36:38.635051Z"
    },
    "papermill": {
     "duration": 0.045469,
     "end_time": "2022-05-07T08:39:04.311730",
     "exception": false,
     "start_time": "2022-05-07T08:39:04.266261",
     "status": "completed"
    },
    "tags": []
   },
   "outputs": [],
   "source": [
    "from keras.layers import Dense, Embedding, LSTM, SpatialDropout1D,MaxPooling1D,Flatten"
   ]
  },
  {
   "cell_type": "code",
   "execution_count": 17,
   "id": "b7bc69b7",
   "metadata": {
    "execution": {
     "iopub.execute_input": "2022-05-07T08:39:04.391898Z",
     "iopub.status.busy": "2022-05-07T08:39:04.390868Z",
     "iopub.status.idle": "2022-05-07T08:39:04.393372Z",
     "shell.execute_reply": "2022-05-07T08:39:04.394107Z",
     "shell.execute_reply.started": "2022-05-07T08:36:39.454810Z"
    },
    "papermill": {
     "duration": 0.046112,
     "end_time": "2022-05-07T08:39:04.394318",
     "exception": false,
     "start_time": "2022-05-07T08:39:04.348206",
     "status": "completed"
    },
    "tags": []
   },
   "outputs": [],
   "source": [
    "early_stopping = EarlyStopping(min_delta = 0.001,\n",
    "                               mode = 'max',\n",
    "                               monitor = 'val_acc',\n",
    "                               patience = 2)\n",
    "callback = [early_stopping]"
   ]
  },
  {
   "cell_type": "code",
   "execution_count": 18,
   "id": "488499c2",
   "metadata": {
    "execution": {
     "iopub.execute_input": "2022-05-07T08:39:04.475684Z",
     "iopub.status.busy": "2022-05-07T08:39:04.471400Z",
     "iopub.status.idle": "2022-05-07T08:39:09.006700Z",
     "shell.execute_reply": "2022-05-07T08:39:09.008112Z",
     "shell.execute_reply.started": "2022-05-07T08:36:40.740637Z"
    },
    "papermill": {
     "duration": 4.577481,
     "end_time": "2022-05-07T08:39:09.008432",
     "exception": false,
     "start_time": "2022-05-07T08:39:04.430951",
     "status": "completed"
    },
    "tags": []
   },
   "outputs": [
    {
     "name": "stderr",
     "output_type": "stream",
     "text": [
      "2022-05-07 08:39:04.584729: I tensorflow/stream_executor/cuda/cuda_gpu_executor.cc:937] successful NUMA node read from SysFS had negative value (-1), but there must be at least one NUMA node, so returning NUMA node zero\n",
      "2022-05-07 08:39:04.691173: I tensorflow/stream_executor/cuda/cuda_gpu_executor.cc:937] successful NUMA node read from SysFS had negative value (-1), but there must be at least one NUMA node, so returning NUMA node zero\n",
      "2022-05-07 08:39:04.692345: I tensorflow/stream_executor/cuda/cuda_gpu_executor.cc:937] successful NUMA node read from SysFS had negative value (-1), but there must be at least one NUMA node, so returning NUMA node zero\n",
      "2022-05-07 08:39:04.693957: I tensorflow/core/platform/cpu_feature_guard.cc:142] This TensorFlow binary is optimized with oneAPI Deep Neural Network Library (oneDNN) to use the following CPU instructions in performance-critical operations:  AVX2 FMA\n",
      "To enable them in other operations, rebuild TensorFlow with the appropriate compiler flags.\n",
      "2022-05-07 08:39:04.695331: I tensorflow/stream_executor/cuda/cuda_gpu_executor.cc:937] successful NUMA node read from SysFS had negative value (-1), but there must be at least one NUMA node, so returning NUMA node zero\n",
      "2022-05-07 08:39:04.696386: I tensorflow/stream_executor/cuda/cuda_gpu_executor.cc:937] successful NUMA node read from SysFS had negative value (-1), but there must be at least one NUMA node, so returning NUMA node zero\n",
      "2022-05-07 08:39:04.697407: I tensorflow/stream_executor/cuda/cuda_gpu_executor.cc:937] successful NUMA node read from SysFS had negative value (-1), but there must be at least one NUMA node, so returning NUMA node zero\n",
      "2022-05-07 08:39:07.287546: I tensorflow/stream_executor/cuda/cuda_gpu_executor.cc:937] successful NUMA node read from SysFS had negative value (-1), but there must be at least one NUMA node, so returning NUMA node zero\n",
      "2022-05-07 08:39:07.288766: I tensorflow/stream_executor/cuda/cuda_gpu_executor.cc:937] successful NUMA node read from SysFS had negative value (-1), but there must be at least one NUMA node, so returning NUMA node zero\n",
      "2022-05-07 08:39:07.289800: I tensorflow/stream_executor/cuda/cuda_gpu_executor.cc:937] successful NUMA node read from SysFS had negative value (-1), but there must be at least one NUMA node, so returning NUMA node zero\n",
      "2022-05-07 08:39:07.290657: I tensorflow/core/common_runtime/gpu/gpu_device.cc:1510] Created device /job:localhost/replica:0/task:0/device:GPU:0 with 15403 MB memory:  -> device: 0, name: Tesla P100-PCIE-16GB, pci bus id: 0000:00:04.0, compute capability: 6.0\n"
     ]
    }
   ],
   "source": [
    "model = Sequential()\n",
    "model.add(Embedding(vocab_size,300,input_length = max_length))\n",
    "model.add(SpatialDropout1D(0.4))\n",
    "model.add(Bidirectional(LSTM(256, dropout = 0.8, recurrent_dropout=0.8, return_sequences=True)))\n",
    "model.add(Bidirectional(LSTM(128,dropout = 0.5,recurrent_dropout=0.5,return_sequences=True)))\n",
    "model.add(Bidirectional(GRU(128,return_sequences=False)))\n",
    "model.add(Dropout(0.4))\n",
    "model.add(Dense(5,activation='softmax'))"
   ]
  },
  {
   "cell_type": "code",
   "execution_count": 19,
   "id": "58cf435e",
   "metadata": {
    "execution": {
     "iopub.execute_input": "2022-05-07T08:39:09.125639Z",
     "iopub.status.busy": "2022-05-07T08:39:09.124661Z",
     "iopub.status.idle": "2022-05-07T08:39:09.133240Z",
     "shell.execute_reply": "2022-05-07T08:39:09.132731Z",
     "shell.execute_reply.started": "2022-05-07T08:36:44.059297Z"
    },
    "papermill": {
     "duration": 0.059689,
     "end_time": "2022-05-07T08:39:09.133383",
     "exception": false,
     "start_time": "2022-05-07T08:39:09.073694",
     "status": "completed"
    },
    "tags": []
   },
   "outputs": [
    {
     "name": "stdout",
     "output_type": "stream",
     "text": [
      "Model: \"sequential\"\n",
      "_________________________________________________________________\n",
      "Layer (type)                 Output Shape              Param #   \n",
      "=================================================================\n",
      "embedding (Embedding)        (None, 48, 300)           4121100   \n",
      "_________________________________________________________________\n",
      "spatial_dropout1d (SpatialDr (None, 48, 300)           0         \n",
      "_________________________________________________________________\n",
      "bidirectional (Bidirectional (None, 48, 512)           1140736   \n",
      "_________________________________________________________________\n",
      "bidirectional_1 (Bidirection (None, 48, 256)           656384    \n",
      "_________________________________________________________________\n",
      "bidirectional_2 (Bidirection (None, 256)               296448    \n",
      "_________________________________________________________________\n",
      "dropout (Dropout)            (None, 256)               0         \n",
      "_________________________________________________________________\n",
      "dense (Dense)                (None, 5)                 1285      \n",
      "=================================================================\n",
      "Total params: 6,215,953\n",
      "Trainable params: 6,215,953\n",
      "Non-trainable params: 0\n",
      "_________________________________________________________________\n"
     ]
    }
   ],
   "source": [
    "model.summary()"
   ]
  },
  {
   "cell_type": "code",
   "execution_count": 20,
   "id": "eb18f0f6",
   "metadata": {
    "execution": {
     "iopub.execute_input": "2022-05-07T08:39:09.214668Z",
     "iopub.status.busy": "2022-05-07T08:39:09.213823Z",
     "iopub.status.idle": "2022-05-07T08:39:10.284052Z",
     "shell.execute_reply": "2022-05-07T08:39:10.284602Z",
     "shell.execute_reply.started": "2022-05-07T08:36:59.135821Z"
    },
    "papermill": {
     "duration": 1.113405,
     "end_time": "2022-05-07T08:39:10.284769",
     "exception": false,
     "start_time": "2022-05-07T08:39:09.171364",
     "status": "completed"
    },
    "tags": []
   },
   "outputs": [
    {
     "data": {
      "image/png": "[encoded data removed]",
      "text/plain": [
       "<IPython.core.display.Image object>"
      ]
     },
     "execution_count": 20,
     "metadata": {},
     "output_type": "execute_result"
    }
   ],
   "source": [
    "from keras.utils.vis_utils import plot_model\n",
    "plot_model(model, to_file='model.png')"
   ]
  },
  {
   "cell_type": "code",
   "execution_count": 21,
   "id": "51d28aa3",
   "metadata": {
    "execution": {
     "iopub.execute_input": "2022-05-07T08:39:10.376451Z",
     "iopub.status.busy": "2022-05-07T08:39:10.375360Z",
     "iopub.status.idle": "2022-05-07T08:39:10.383418Z",
     "shell.execute_reply": "2022-05-07T08:39:10.382795Z",
     "shell.execute_reply.started": "2022-05-05T06:25:33.667717Z"
    },
    "papermill": {
     "duration": 0.06112,
     "end_time": "2022-05-07T08:39:10.383547",
     "exception": false,
     "start_time": "2022-05-07T08:39:10.322427",
     "status": "completed"
    },
    "tags": []
   },
   "outputs": [],
   "source": [
    "model.compile(loss='categorical_crossentropy', optimizer='adam', metrics=['accuracy'])"
   ]
  },
  {
   "cell_type": "code",
   "execution_count": 22,
   "id": "93106a67",
   "metadata": {
    "execution": {
     "iopub.execute_input": "2022-05-07T08:39:10.479698Z",
     "iopub.status.busy": "2022-05-07T08:39:10.478540Z",
     "iopub.status.idle": "2022-05-07T09:24:46.272538Z",
     "shell.execute_reply": "2022-05-07T09:24:46.273162Z",
     "shell.execute_reply.started": "2022-05-05T06:29:18.37634Z"
    },
    "papermill": {
     "duration": 2735.840128,
     "end_time": "2022-05-07T09:24:46.273409",
     "exception": false,
     "start_time": "2022-05-07T08:39:10.433281",
     "status": "completed"
    },
    "tags": []
   },
   "outputs": [
    {
     "name": "stderr",
     "output_type": "stream",
     "text": [
      "2022-05-07 08:39:10.553883: I tensorflow/compiler/mlir/mlir_graph_optimization_pass.cc:185] None of the MLIR Optimization Passes are enabled (registered 2)\n"
     ]
    },
    {
     "name": "stdout",
     "output_type": "stream",
     "text": [
      "Epoch 1/10\n"
     ]
    },
    {
     "name": "stderr",
     "output_type": "stream",
     "text": [
      "2022-05-07 08:39:27.269585: I tensorflow/stream_executor/cuda/cuda_dnn.cc:369] Loaded cuDNN version 8005\n"
     ]
    },
    {
     "name": "stdout",
     "output_type": "stream",
     "text": [
      "220/220 [==============================] - 282s 1s/step - loss: 1.1485 - accuracy: 0.5444 - val_loss: 0.9451 - val_accuracy: 0.6156\n",
      "Epoch 2/10\n",
      "220/220 [==============================] - 266s 1s/step - loss: 0.9143 - accuracy: 0.6310 - val_loss: 0.8593 - val_accuracy: 0.6486\n",
      "Epoch 3/10\n",
      "220/220 [==============================] - 265s 1s/step - loss: 0.8391 - accuracy: 0.6585 - val_loss: 0.8277 - val_accuracy: 0.6608\n",
      "Epoch 4/10\n",
      "220/220 [==============================] - 266s 1s/step - loss: 0.8022 - accuracy: 0.6735 - val_loss: 0.8264 - val_accuracy: 0.6599\n",
      "Epoch 5/10\n",
      "220/220 [==============================] - 265s 1s/step - loss: 0.7742 - accuracy: 0.6853 - val_loss: 0.8240 - val_accuracy: 0.6642\n",
      "Epoch 6/10\n",
      "220/220 [==============================] - 269s 1s/step - loss: 0.7501 - accuracy: 0.6938 - val_loss: 0.8052 - val_accuracy: 0.6714\n",
      "Epoch 7/10\n",
      "220/220 [==============================] - 271s 1s/step - loss: 0.7295 - accuracy: 0.7005 - val_loss: 0.8052 - val_accuracy: 0.6678\n",
      "Epoch 8/10\n",
      "220/220 [==============================] - 272s 1s/step - loss: 0.7111 - accuracy: 0.7077 - val_loss: 0.8001 - val_accuracy: 0.6753\n",
      "Epoch 9/10\n",
      "220/220 [==============================] - 279s 1s/step - loss: 0.6955 - accuracy: 0.7132 - val_loss: 0.8145 - val_accuracy: 0.6662\n",
      "Epoch 10/10\n",
      "220/220 [==============================] - 276s 1s/step - loss: 0.6808 - accuracy: 0.7188 - val_loss: 0.8068 - val_accuracy: 0.6730\n"
     ]
    }
   ],
   "source": [
    "history=model.fit(X_train, y_train,batch_size=512, epochs=10,verbose=1,callbacks=callback,validation_split=0.1)"
   ]
  },
  {
   "cell_type": "code",
   "execution_count": 23,
   "id": "8581cd3b",
   "metadata": {
    "execution": {
     "iopub.execute_input": "2022-05-07T09:24:48.444438Z",
     "iopub.status.busy": "2022-05-07T09:24:48.443771Z",
     "iopub.status.idle": "2022-05-07T09:24:48.660293Z",
     "shell.execute_reply": "2022-05-07T09:24:48.660923Z",
     "shell.execute_reply.started": "2022-05-05T06:40:11.057388Z"
    },
    "papermill": {
     "duration": 1.463699,
     "end_time": "2022-05-07T09:24:48.661100",
     "exception": false,
     "start_time": "2022-05-07T09:24:47.197401",
     "status": "completed"
    },
    "tags": []
   },
   "outputs": [],
   "source": [
    "model.save('Model.h5')"
   ]
  },
  {
   "cell_type": "code",
   "execution_count": 24,
   "id": "6bca192d",
   "metadata": {
    "execution": {
     "iopub.execute_input": "2022-05-07T09:24:50.526544Z",
     "iopub.status.busy": "2022-05-07T09:24:50.525440Z",
     "iopub.status.idle": "2022-05-07T09:24:50.764803Z",
     "shell.execute_reply": "2022-05-07T09:24:50.765401Z",
     "shell.execute_reply.started": "2022-05-05T06:40:33.231512Z"
    },
    "papermill": {
     "duration": 1.195674,
     "end_time": "2022-05-07T09:24:50.765571",
     "exception": false,
     "start_time": "2022-05-07T09:24:49.569897",
     "status": "completed"
    },
    "tags": []
   },
   "outputs": [
    {
     "data": {
      "image/png": "[encoded data removed]",
      "text/plain": [
       "<Figure size 432x288 with 1 Axes>"
      ]
     },
     "metadata": {
      "needs_background": "light"
     },
     "output_type": "display_data"
    }
   ],
   "source": [
    "loss_train = history.history['loss']\n",
    "epochs = range(1,11)\n",
    "plt.plot(epochs, loss_train, 'g', label='Training loss')\n",
    "plt.title('Training loss')\n",
    "plt.xlabel('Epochs')\n",
    "plt.ylabel('Loss')\n",
    "plt.legend()\n",
    "plt.show()\n"
   ]
  },
  {
   "cell_type": "code",
   "execution_count": 25,
   "id": "d743d94c",
   "metadata": {
    "execution": {
     "iopub.execute_input": "2022-05-07T09:24:52.682282Z",
     "iopub.status.busy": "2022-05-07T09:24:52.664164Z",
     "iopub.status.idle": "2022-05-07T09:24:52.869200Z",
     "shell.execute_reply": "2022-05-07T09:24:52.869771Z",
     "shell.execute_reply.started": "2022-05-05T06:40:37.791027Z"
    },
    "papermill": {
     "duration": 1.169292,
     "end_time": "2022-05-07T09:24:52.869942",
     "exception": false,
     "start_time": "2022-05-07T09:24:51.700650",
     "status": "completed"
    },
    "tags": []
   },
   "outputs": [
    {
     "data": {
      "image/png": "[encoded data removed]",
      "text/plain": [
       "<Figure size 432x288 with 1 Axes>"
      ]
     },
     "metadata": {
      "needs_background": "light"
     },
     "output_type": "display_data"
    }
   ],
   "source": [
    "accuracy_train = history.history['accuracy']\n",
    "epochs = range(1,11)\n",
    "plt.plot(epochs, accuracy_train, 'g', label='Training Accuracy')\n",
    "plt.title('Training Accuracy')\n",
    "plt.xlabel('Epochs')\n",
    "plt.ylabel('Accuracy')\n",
    "plt.legend()\n",
    "plt.show()"
   ]
  },
  {
   "cell_type": "code",
   "execution_count": 26,
   "id": "304ad0ab",
   "metadata": {
    "execution": {
     "iopub.execute_input": "2022-05-07T09:24:54.718105Z",
     "iopub.status.busy": "2022-05-07T09:24:54.716420Z",
     "iopub.status.idle": "2022-05-07T09:26:57.705122Z",
     "shell.execute_reply": "2022-05-07T09:26:57.705638Z",
     "shell.execute_reply.started": "2022-05-05T06:36:08.646733Z"
    },
    "papermill": {
     "duration": 123.922109,
     "end_time": "2022-05-07T09:26:57.705896",
     "exception": false,
     "start_time": "2022-05-07T09:24:53.783787",
     "status": "completed"
    },
    "tags": []
   },
   "outputs": [],
   "source": [
    "predict_x=model.predict(X_test) \n",
    "classes_x=np.argmax(predict_x,axis=1)"
   ]
  },
  {
   "cell_type": "code",
   "execution_count": 27,
   "id": "fe8908f0",
   "metadata": {
    "execution": {
     "iopub.execute_input": "2022-05-07T09:26:59.727280Z",
     "iopub.status.busy": "2022-05-07T09:26:59.726260Z",
     "iopub.status.idle": "2022-05-07T09:26:59.730307Z",
     "shell.execute_reply": "2022-05-07T09:26:59.731316Z",
     "shell.execute_reply.started": "2022-05-05T06:27:08.01458Z"
    },
    "papermill": {
     "duration": 1.117054,
     "end_time": "2022-05-07T09:26:59.731574",
     "exception": false,
     "start_time": "2022-05-07T09:26:58.614520",
     "status": "completed"
    },
    "tags": []
   },
   "outputs": [
    {
     "data": {
      "text/plain": [
       "array([2, 2, 2, ..., 2, 2, 1])"
      ]
     },
     "execution_count": 27,
     "metadata": {},
     "output_type": "execute_result"
    }
   ],
   "source": [
    "classes_x"
   ]
  },
  {
   "cell_type": "code",
   "execution_count": 28,
   "id": "b974d17b",
   "metadata": {
    "execution": {
     "iopub.execute_input": "2022-05-07T09:27:01.693542Z",
     "iopub.status.busy": "2022-05-07T09:27:01.692449Z",
     "iopub.status.idle": "2022-05-07T09:27:01.698385Z",
     "shell.execute_reply": "2022-05-07T09:27:01.697799Z",
     "shell.execute_reply.started": "2022-05-05T06:27:08.01633Z"
    },
    "papermill": {
     "duration": 0.914654,
     "end_time": "2022-05-07T09:27:01.698509",
     "exception": false,
     "start_time": "2022-05-07T09:27:00.783855",
     "status": "completed"
    },
    "tags": []
   },
   "outputs": [
    {
     "data": {
      "text/plain": [
       "array([0, 1, 2, 3, 4])"
      ]
     },
     "execution_count": 28,
     "metadata": {},
     "output_type": "execute_result"
    }
   ],
   "source": [
    "np.unique(classes_x)"
   ]
  },
  {
   "cell_type": "code",
   "execution_count": 29,
   "id": "0b428b1c",
   "metadata": {
    "execution": {
     "iopub.execute_input": "2022-05-07T09:27:03.507766Z",
     "iopub.status.busy": "2022-05-07T09:27:03.506883Z",
     "iopub.status.idle": "2022-05-07T09:27:03.655587Z",
     "shell.execute_reply": "2022-05-07T09:27:03.654974Z",
     "shell.execute_reply.started": "2022-05-05T06:27:08.018098Z"
    },
    "papermill": {
     "duration": 1.054719,
     "end_time": "2022-05-07T09:27:03.655744",
     "exception": false,
     "start_time": "2022-05-07T09:27:02.601025",
     "status": "completed"
    },
    "tags": []
   },
   "outputs": [],
   "source": [
    "submission_file =pd.read_csv('/kaggle/input/sentiment-analysis-on-movie-reviews/sampleSubmission.csv',sep=',')\n",
    "submission_file['Sentiment']=classes_x\n",
    "submission_file.to_csv('Submission_DeepLearning.csv',index=False)"
   ]
  },
  {
   "cell_type": "code",
   "execution_count": null,
   "id": "d87a19bf",
   "metadata": {
    "papermill": {
     "duration": 0.889092,
     "end_time": "2022-05-07T09:27:05.445827",
     "exception": false,
     "start_time": "2022-05-07T09:27:04.556735",
     "status": "completed"
    },
    "tags": []
   },
   "outputs": [],
   "source": []
  }
 ],
 "metadata": {
  "kernelspec": {
   "display_name": "Python 3",
   "language": "python",
   "name": "python3"
  },
  "language_info": {
   "codemirror_mode": {
    "name": "ipython",
    "version": 3
   },
   "file_extension": ".py",
   "mimetype": "text/x-python",
   "name": "python",
   "nbconvert_exporter": "python",
   "pygments_lexer": "ipython3",
   "version": "3.7.12"
  },
  "papermill": {
   "default_parameters": {},
   "duration": 2957.208765,
   "end_time": "2022-05-07T09:27:09.633579",
   "environment_variables": {},
   "exception": null,
   "input_path": "__notebook__.ipynb",
   "output_path": "__notebook__.ipynb",
   "parameters": {},
   "start_time": "2022-05-07T08:37:52.424814",
   "version": "2.3.3"
  }
 },
 "nbformat": 4,
 "nbformat_minor": 5
}
