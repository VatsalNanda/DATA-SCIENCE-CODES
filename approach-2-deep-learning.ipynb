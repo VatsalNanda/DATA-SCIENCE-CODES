{
 "cells": [
  {
   "cell_type": "code",
   "execution_count": 1,
   "id": "2d77208a",
   "metadata": {
    "_cell_guid": "b1076dfc-b9ad-4769-8c92-a6c4dae69d19",
    "_uuid": "8f2839f25d086af736a60e9eeb907d3b93b6e0e5",
    "execution": {
     "iopub.execute_input": "2022-05-05T06:41:41.089548Z",
     "iopub.status.busy": "2022-05-05T06:41:41.088968Z",
     "iopub.status.idle": "2022-05-05T06:41:41.096529Z",
     "shell.execute_reply": "2022-05-05T06:41:41.095812Z",
     "shell.execute_reply.started": "2022-05-05T06:24:40.736933Z"
    },
    "papermill": {
     "duration": 0.044748,
     "end_time": "2022-05-05T06:41:41.096697",
     "exception": false,
     "start_time": "2022-05-05T06:41:41.051949",
     "status": "completed"
    },
    "tags": []
   },
   "outputs": [
    {
     "name": "stdout",
     "output_type": "stream",
     "text": [
      "/kaggle/input/sentiment-analysis-on-movie-reviews/sampleSubmission.csv\n",
      "/kaggle/input/sentiment-analysis-on-movie-reviews/train.tsv.zip\n",
      "/kaggle/input/sentiment-analysis-on-movie-reviews/test.tsv.zip\n"
     ]
    }
   ],
   "source": [
    "# This Python 3 environment comes with many helpful analytics libraries installed\n",
    "# It is defined by the kaggle/python Docker image: https://github.com/kaggle/docker-python\n",
    "# For example, here's several helpful packages to load\n",
    "\n",
    "import numpy as np # linear algebra\n",
    "import pandas as pd # data processing, CSV file I/O (e.g. pd.read_csv)\n",
    "\n",
    "# Input data files are available in the read-only \"../input/\" directory\n",
    "# For example, running this (by clicking run or pressing Shift+Enter) will list all files under the input directory\n",
    "\n",
    "import os\n",
    "for dirname, _, filenames in os.walk('/kaggle/input'):\n",
    "    for filename in filenames:\n",
    "        print(os.path.join(dirname, filename))\n",
    "\n",
    "# You can write up to 20GB to the current directory (/kaggle/working/) that gets preserved as output when you create a version using \"Save & Run All\" \n",
    "# You can also write temporary files to /kaggle/temp/, but they won't be saved outside of the current session"
   ]
  },
  {
   "cell_type": "code",
   "execution_count": 2,
   "id": "cab2699f",
   "metadata": {
    "execution": {
     "iopub.execute_input": "2022-05-05T06:41:41.158701Z",
     "iopub.status.busy": "2022-05-05T06:41:41.157917Z",
     "iopub.status.idle": "2022-05-05T06:41:47.954264Z",
     "shell.execute_reply": "2022-05-05T06:41:47.954944Z",
     "shell.execute_reply.started": "2022-05-05T06:24:40.771684Z"
    },
    "papermill": {
     "duration": 6.831694,
     "end_time": "2022-05-05T06:41:47.955154",
     "exception": false,
     "start_time": "2022-05-05T06:41:41.123460",
     "status": "completed"
    },
    "tags": []
   },
   "outputs": [],
   "source": [
    "import pandas as pd\n",
    "import numpy as np \n",
    "import matplotlib.pyplot as plt\n",
    "import seaborn as sns\n",
    "\n",
    "\n",
    "#Text Preprocessing Libraries\n",
    "import nltk\n",
    "from nltk.corpus import stopwords\n",
    "from nltk.stem.porter import PorterStemmer\n",
    "from nltk.tokenize import word_tokenize\n",
    "from sklearn.feature_extraction.text import TfidfVectorizer,CountVectorizer\n",
    "import re\n",
    "import string\n",
    "from sklearn.preprocessing import LabelEncoder\n",
    "from sklearn.model_selection import train_test_split\n",
    "\n",
    "from nltk.tokenize import word_tokenize\n",
    "from nltk import FreqDist\n",
    "from nltk.stem import SnowballStemmer,WordNetLemmatizer\n",
    "\n",
    "#Deep Learning Libraries\n",
    "import keras\n",
    "from tensorflow.keras.preprocessing import sequence\n",
    "from tensorflow.keras.models import Sequential\n",
    "from tensorflow.keras.layers import Dense, Embedding\n",
    "from tensorflow.keras.layers import LSTM,GRU\n",
    "from tensorflow.keras.utils import to_categorical\n",
    "from tensorflow.keras.preprocessing.text import Tokenizer\n",
    "from tensorflow.keras.preprocessing.sequence import pad_sequences\n",
    "from keras.models import Sequential\n",
    "from keras.layers import Dense\n",
    "from keras.layers import LSTM\n",
    "from keras.layers import Activation\n",
    "from keras.layers import Embedding\n",
    "from keras.layers import Bidirectional\n",
    "from tensorflow.keras.optimizers import Adam\n",
    "from keras.preprocessing import sequence\n",
    "from keras.preprocessing.text import Tokenizer\n",
    "from keras.layers import Dense,Dropout,Embedding,LSTM\n",
    "from keras.callbacks import EarlyStopping\n",
    "from keras.losses import categorical_crossentropy\n",
    "from tensorflow.keras.optimizers import Adam\n",
    "from keras.models import Sequential\n",
    "import tensorflow_hub as hub\n",
    "from keras.models import Sequential\n",
    "from keras.layers import Dense, LSTM, Conv1D, MaxPool1D, Dropout\n",
    "from keras.layers.embeddings import Embedding\n",
    "from keras.callbacks import EarlyStopping"
   ]
  },
  {
   "cell_type": "code",
   "execution_count": 3,
   "id": "6cf0c30c",
   "metadata": {
    "execution": {
     "iopub.execute_input": "2022-05-05T06:41:48.044628Z",
     "iopub.status.busy": "2022-05-05T06:41:48.043843Z",
     "iopub.status.idle": "2022-05-05T06:41:48.451860Z",
     "shell.execute_reply": "2022-05-05T06:41:48.451311Z",
     "shell.execute_reply.started": "2022-05-05T06:24:47.403241Z"
    },
    "papermill": {
     "duration": 0.455342,
     "end_time": "2022-05-05T06:41:48.452012",
     "exception": false,
     "start_time": "2022-05-05T06:41:47.996670",
     "status": "completed"
    },
    "tags": []
   },
   "outputs": [],
   "source": [
    "train=pd.read_csv('/kaggle/input/sentiment-analysis-on-movie-reviews/train.tsv.zip',sep='\\t')\n",
    "test=pd.read_csv('/kaggle/input/sentiment-analysis-on-movie-reviews/test.tsv.zip',sep='\\t')"
   ]
  },
  {
   "cell_type": "code",
   "execution_count": 4,
   "id": "9e804bb9",
   "metadata": {
    "execution": {
     "iopub.execute_input": "2022-05-05T06:41:48.519620Z",
     "iopub.status.busy": "2022-05-05T06:41:48.518965Z",
     "iopub.status.idle": "2022-05-05T06:41:48.522053Z",
     "shell.execute_reply": "2022-05-05T06:41:48.522460Z",
     "shell.execute_reply.started": "2022-05-05T06:24:47.690409Z"
    },
    "papermill": {
     "duration": 0.044732,
     "end_time": "2022-05-05T06:41:48.522590",
     "exception": false,
     "start_time": "2022-05-05T06:41:48.477858",
     "status": "completed"
    },
    "tags": []
   },
   "outputs": [
    {
     "data": {
      "text/plain": [
       "2    79582\n",
       "3    32927\n",
       "1    27273\n",
       "4     9206\n",
       "0     7072\n",
       "Name: Sentiment, dtype: int64"
      ]
     },
     "execution_count": 4,
     "metadata": {},
     "output_type": "execute_result"
    }
   ],
   "source": [
    "train['Sentiment'].value_counts()"
   ]
  },
  {
   "cell_type": "code",
   "execution_count": 5,
   "id": "112ab22a",
   "metadata": {
    "execution": {
     "iopub.execute_input": "2022-05-05T06:41:48.580238Z",
     "iopub.status.busy": "2022-05-05T06:41:48.578694Z",
     "iopub.status.idle": "2022-05-05T06:41:48.580862Z",
     "shell.execute_reply": "2022-05-05T06:41:48.581251Z",
     "shell.execute_reply.started": "2022-05-05T06:24:47.707217Z"
    },
    "papermill": {
     "duration": 0.033517,
     "end_time": "2022-05-05T06:41:48.581372",
     "exception": false,
     "start_time": "2022-05-05T06:41:48.547855",
     "status": "completed"
    },
    "tags": []
   },
   "outputs": [],
   "source": [
    "def clean_sentences(df):\n",
    "    reviews = []\n",
    "    \n",
    "    for sent in df['Phrase']:       \n",
    "        #remove non-alphabetic characters\n",
    "        review_text = re.sub(\"[^a-zA-Z]\",\" \", sent)\n",
    "        \n",
    "        #tokenize the sentences\n",
    "        words = word_tokenize(review_text.lower())\n",
    "        \n",
    "        #lemmatize each word to its lemma\n",
    "        lemmatizer = WordNetLemmatizer()\n",
    "        lemma_words = [lemmatizer.lemmatize(i) for i in words]\n",
    "        \n",
    "        reviews.append(lemma_words)\n",
    "    \n",
    "    return(reviews)"
   ]
  },
  {
   "cell_type": "code",
   "execution_count": 6,
   "id": "5978d93e",
   "metadata": {
    "execution": {
     "iopub.execute_input": "2022-05-05T06:41:48.638588Z",
     "iopub.status.busy": "2022-05-05T06:41:48.637767Z",
     "iopub.status.idle": "2022-05-05T06:42:26.611912Z",
     "shell.execute_reply": "2022-05-05T06:42:26.612587Z",
     "shell.execute_reply.started": "2022-05-05T06:24:47.725257Z"
    },
    "papermill": {
     "duration": 38.004666,
     "end_time": "2022-05-05T06:42:26.612789",
     "exception": false,
     "start_time": "2022-05-05T06:41:48.608123",
     "status": "completed"
    },
    "tags": []
   },
   "outputs": [
    {
     "name": "stdout",
     "output_type": "stream",
     "text": [
      "156060\n",
      "66292\n"
     ]
    }
   ],
   "source": [
    "train_sentences = clean_sentences(train)\n",
    "test_sentences = clean_sentences(test)\n",
    "\n",
    "print(len(train_sentences))\n",
    "print(len(test_sentences))"
   ]
  },
  {
   "cell_type": "code",
   "execution_count": 7,
   "id": "69395257",
   "metadata": {
    "execution": {
     "iopub.execute_input": "2022-05-05T06:42:26.704773Z",
     "iopub.status.busy": "2022-05-05T06:42:26.702600Z",
     "iopub.status.idle": "2022-05-05T06:42:26.707521Z",
     "shell.execute_reply": "2022-05-05T06:42:26.705525Z",
     "shell.execute_reply.started": "2022-05-05T06:25:25.481750Z"
    },
    "papermill": {
     "duration": 0.052843,
     "end_time": "2022-05-05T06:42:26.707680",
     "exception": false,
     "start_time": "2022-05-05T06:42:26.654837",
     "status": "completed"
    },
    "tags": []
   },
   "outputs": [
    {
     "name": "stdout",
     "output_type": "stream",
     "text": [
      "A series of escapades demonstrating the adage that what is good for the goose is also good for the gander , some of which occasionally amuses but none of which amounts to much of a story .\n",
      "a series of escapade demonstrating the adage that what is good for the goose is also good for the gander some of which occasionally amuses but none of which amount to much of a story\n"
     ]
    }
   ],
   "source": [
    "print(train['Phrase'][0])\n",
    "print(' '.join(train_sentences[0]))"
   ]
  },
  {
   "cell_type": "code",
   "execution_count": 8,
   "id": "90cde646",
   "metadata": {
    "execution": {
     "iopub.execute_input": "2022-05-05T06:42:26.799290Z",
     "iopub.status.busy": "2022-05-05T06:42:26.798431Z",
     "iopub.status.idle": "2022-05-05T06:42:26.803215Z",
     "shell.execute_reply": "2022-05-05T06:42:26.803870Z",
     "shell.execute_reply.started": "2022-05-05T06:25:25.488177Z"
    },
    "papermill": {
     "duration": 0.053731,
     "end_time": "2022-05-05T06:42:26.804054",
     "exception": false,
     "start_time": "2022-05-05T06:42:26.750323",
     "status": "completed"
    },
    "tags": []
   },
   "outputs": [],
   "source": [
    "from tensorflow.keras.utils import to_categorical\n",
    "\n",
    "target = train.Sentiment.values\n",
    "y_target = to_categorical(target)\n",
    "\n",
    "# number of numerical values exist in y_target's column\n",
    "num_classes = y_target.shape[1]"
   ]
  },
  {
   "cell_type": "code",
   "execution_count": 9,
   "id": "78ab8c4e",
   "metadata": {
    "execution": {
     "iopub.execute_input": "2022-05-05T06:42:26.893994Z",
     "iopub.status.busy": "2022-05-05T06:42:26.893145Z",
     "iopub.status.idle": "2022-05-05T06:42:26.896460Z",
     "shell.execute_reply": "2022-05-05T06:42:26.897059Z",
     "shell.execute_reply.started": "2022-05-05T06:25:25.507431Z"
    },
    "papermill": {
     "duration": 0.050268,
     "end_time": "2022-05-05T06:42:26.897235",
     "exception": false,
     "start_time": "2022-05-05T06:42:26.846967",
     "status": "completed"
    },
    "tags": []
   },
   "outputs": [
    {
     "name": "stdout",
     "output_type": "stream",
     "text": [
      "5\n"
     ]
    }
   ],
   "source": [
    "print(num_classes)"
   ]
  },
  {
   "cell_type": "code",
   "execution_count": 10,
   "id": "d6398a42",
   "metadata": {
    "execution": {
     "iopub.execute_input": "2022-05-05T06:42:26.979406Z",
     "iopub.status.busy": "2022-05-05T06:42:26.978585Z",
     "iopub.status.idle": "2022-05-05T06:42:26.981000Z",
     "shell.execute_reply": "2022-05-05T06:42:26.980589Z",
     "shell.execute_reply.started": "2022-05-05T06:25:25.517171Z"
    },
    "papermill": {
     "duration": 0.041301,
     "end_time": "2022-05-05T06:42:26.981110",
     "exception": false,
     "start_time": "2022-05-05T06:42:26.939809",
     "status": "completed"
    },
    "tags": []
   },
   "outputs": [],
   "source": [
    "from sklearn.model_selection import train_test_split\n"
   ]
  },
  {
   "cell_type": "code",
   "execution_count": 11,
   "id": "ae798e89",
   "metadata": {
    "execution": {
     "iopub.execute_input": "2022-05-05T06:42:27.040940Z",
     "iopub.status.busy": "2022-05-05T06:42:27.040194Z",
     "iopub.status.idle": "2022-05-05T06:42:28.308120Z",
     "shell.execute_reply": "2022-05-05T06:42:28.307629Z",
     "shell.execute_reply.started": "2022-05-05T06:25:25.523179Z"
    },
    "papermill": {
     "duration": 1.300562,
     "end_time": "2022-05-05T06:42:28.308240",
     "exception": false,
     "start_time": "2022-05-05T06:42:27.007678",
     "status": "completed"
    },
    "tags": []
   },
   "outputs": [],
   "source": [
    "X_train, X_val, y_train, y_val = train_test_split(train_sentences,\n",
    "                                                  y_target,\n",
    "                                                  test_size = 0.2,\n",
    "                                                  stratify = y_target)"
   ]
  },
  {
   "cell_type": "code",
   "execution_count": 12,
   "id": "0898bb32",
   "metadata": {
    "execution": {
     "iopub.execute_input": "2022-05-05T06:42:28.400269Z",
     "iopub.status.busy": "2022-05-05T06:42:28.363675Z",
     "iopub.status.idle": "2022-05-05T06:42:28.510069Z",
     "shell.execute_reply": "2022-05-05T06:42:28.509336Z",
     "shell.execute_reply.started": "2022-05-05T06:25:26.852208Z"
    },
    "papermill": {
     "duration": 0.175394,
     "end_time": "2022-05-05T06:42:28.510235",
     "exception": false,
     "start_time": "2022-05-05T06:42:28.334841",
     "status": "completed"
    },
    "tags": []
   },
   "outputs": [
    {
     "name": "stdout",
     "output_type": "stream",
     "text": [
      "Number of vocabs:  13730\n",
      "Max length of text is:  48\n"
     ]
    }
   ],
   "source": [
    "unique_words = set()\n",
    "len_max = 0\n",
    "\n",
    "for sent in (X_train):\n",
    "    unique_words.update(sent)\n",
    "    if(len_max < len(sent)):\n",
    "        len_max = len(sent)\n",
    "\n",
    "# length of the list of unique_words \n",
    "print('Number of vocabs: ', len(list(unique_words)))\n",
    "print('Max length of text is: ', len_max)"
   ]
  },
  {
   "cell_type": "code",
   "execution_count": 13,
   "id": "3ecf39ab",
   "metadata": {
    "execution": {
     "iopub.execute_input": "2022-05-05T06:42:28.569194Z",
     "iopub.status.busy": "2022-05-05T06:42:28.568272Z",
     "iopub.status.idle": "2022-05-05T06:42:28.571596Z",
     "shell.execute_reply": "2022-05-05T06:42:28.571166Z",
     "shell.execute_reply.started": "2022-05-05T06:25:27.000642Z"
    },
    "papermill": {
     "duration": 0.03404,
     "end_time": "2022-05-05T06:42:28.571709",
     "exception": false,
     "start_time": "2022-05-05T06:42:28.537669",
     "status": "completed"
    },
    "tags": []
   },
   "outputs": [],
   "source": [
    "vocab_size = len(list(unique_words))\n",
    "embedding_dim = 300\n",
    "max_length = len_max\n",
    "trunc_type='post'\n",
    "padding_type='post'\n",
    "oov_tok = \"<OOV>\""
   ]
  },
  {
   "cell_type": "code",
   "execution_count": 14,
   "id": "d77af99a",
   "metadata": {
    "execution": {
     "iopub.execute_input": "2022-05-05T06:42:28.666168Z",
     "iopub.status.busy": "2022-05-05T06:42:28.645568Z",
     "iopub.status.idle": "2022-05-05T06:42:31.766244Z",
     "shell.execute_reply": "2022-05-05T06:42:31.766760Z",
     "shell.execute_reply.started": "2022-05-05T06:25:27.007630Z"
    },
    "papermill": {
     "duration": 3.168728,
     "end_time": "2022-05-05T06:42:31.766945",
     "exception": false,
     "start_time": "2022-05-05T06:42:28.598217",
     "status": "completed"
    },
    "tags": []
   },
   "outputs": [],
   "source": [
    "tokenizer = Tokenizer(num_words = vocab_size,\n",
    "                      # filters = '#$%&()*+,-./:;<=>?@[\\\\]^_`{|}~\\t\\n',\n",
    "                      oov_token = oov_tok,\n",
    "                      # lower = True,\n",
    "                      char_level = False)\n",
    "\n",
    "tokenizer.fit_on_texts(list(X_train))\n",
    "\n",
    "# Training\n",
    "X_train = tokenizer.texts_to_sequences(X_train)\n",
    "X_train = pad_sequences(X_train,\n",
    "                        maxlen = max_length,\n",
    "                        padding = padding_type,\n",
    "                        truncating = trunc_type)\n",
    "\n",
    "# Validation\n",
    "X_val = tokenizer.texts_to_sequences(X_val)\n",
    "X_val = pad_sequences(X_val,\n",
    "                      maxlen = max_length,\n",
    "                      padding = padding_type,\n",
    "                      truncating = trunc_type)\n",
    "\n",
    "# Testing\n",
    "X_test = tokenizer.texts_to_sequences(test_sentences)\n",
    "X_test = pad_sequences(X_test,\n",
    "                       maxlen = max_length,\n",
    "                       padding = padding_type,\n",
    "                       truncating = trunc_type)"
   ]
  },
  {
   "cell_type": "code",
   "execution_count": 15,
   "id": "c8a2596d",
   "metadata": {
    "execution": {
     "iopub.execute_input": "2022-05-05T06:42:31.834865Z",
     "iopub.status.busy": "2022-05-05T06:42:31.833814Z",
     "iopub.status.idle": "2022-05-05T06:42:31.838154Z",
     "shell.execute_reply": "2022-05-05T06:42:31.838839Z",
     "shell.execute_reply.started": "2022-05-05T06:25:30.150653Z"
    },
    "papermill": {
     "duration": 0.040306,
     "end_time": "2022-05-05T06:42:31.839044",
     "exception": false,
     "start_time": "2022-05-05T06:42:31.798738",
     "status": "completed"
    },
    "tags": []
   },
   "outputs": [
    {
     "name": "stdout",
     "output_type": "stream",
     "text": [
      "X_training shape   :  (124848, 48)\n",
      "X_validation shape :  (31212, 48)\n",
      "X_testing shape    :  (66292, 48)\n"
     ]
    }
   ],
   "source": [
    "print(\"X_training shape   : \",X_train.shape)\n",
    "print(\"X_validation shape : \",X_val.shape)\n",
    "print(\"X_testing shape    : \",X_test.shape)"
   ]
  },
  {
   "cell_type": "markdown",
   "id": "0ac11149",
   "metadata": {
    "papermill": {
     "duration": 0.029992,
     "end_time": "2022-05-05T06:42:31.900518",
     "exception": false,
     "start_time": "2022-05-05T06:42:31.870526",
     "status": "completed"
    },
    "tags": []
   },
   "source": [
    "**2) DEEP LEARNING APPROACH**"
   ]
  },
  {
   "cell_type": "code",
   "execution_count": 16,
   "id": "0770dd0c",
   "metadata": {
    "execution": {
     "iopub.execute_input": "2022-05-05T06:42:31.966342Z",
     "iopub.status.busy": "2022-05-05T06:42:31.965555Z",
     "iopub.status.idle": "2022-05-05T06:42:31.967493Z",
     "shell.execute_reply": "2022-05-05T06:42:31.967896Z",
     "shell.execute_reply.started": "2022-05-05T06:25:30.159622Z"
    },
    "papermill": {
     "duration": 0.037011,
     "end_time": "2022-05-05T06:42:31.968028",
     "exception": false,
     "start_time": "2022-05-05T06:42:31.931017",
     "status": "completed"
    },
    "tags": []
   },
   "outputs": [],
   "source": [
    "from keras.layers import Dense, Embedding, LSTM, SpatialDropout1D,MaxPooling1D,Flatten"
   ]
  },
  {
   "cell_type": "code",
   "execution_count": 17,
   "id": "90962fba",
   "metadata": {
    "execution": {
     "iopub.execute_input": "2022-05-05T06:42:32.034249Z",
     "iopub.status.busy": "2022-05-05T06:42:32.033529Z",
     "iopub.status.idle": "2022-05-05T06:42:32.036020Z",
     "shell.execute_reply": "2022-05-05T06:42:32.035575Z",
     "shell.execute_reply.started": "2022-05-05T06:25:30.166495Z"
    },
    "papermill": {
     "duration": 0.03734,
     "end_time": "2022-05-05T06:42:32.036130",
     "exception": false,
     "start_time": "2022-05-05T06:42:31.998790",
     "status": "completed"
    },
    "tags": []
   },
   "outputs": [],
   "source": [
    "early_stopping = EarlyStopping(min_delta = 0.001,\n",
    "                               mode = 'max',\n",
    "                               monitor = 'val_acc',\n",
    "                               patience = 2)\n",
    "callback = [early_stopping]"
   ]
  },
  {
   "cell_type": "code",
   "execution_count": 18,
   "id": "27c7bb81",
   "metadata": {
    "execution": {
     "iopub.execute_input": "2022-05-05T06:42:32.103924Z",
     "iopub.status.busy": "2022-05-05T06:42:32.103372Z",
     "iopub.status.idle": "2022-05-05T06:42:35.382468Z",
     "shell.execute_reply": "2022-05-05T06:42:35.381881Z",
     "shell.execute_reply.started": "2022-05-05T06:25:30.176907Z"
    },
    "papermill": {
     "duration": 3.31548,
     "end_time": "2022-05-05T06:42:35.382612",
     "exception": false,
     "start_time": "2022-05-05T06:42:32.067132",
     "status": "completed"
    },
    "tags": []
   },
   "outputs": [
    {
     "name": "stderr",
     "output_type": "stream",
     "text": [
      "2022-05-05 06:42:32.192029: I tensorflow/stream_executor/cuda/cuda_gpu_executor.cc:937] successful NUMA node read from SysFS had negative value (-1), but there must be at least one NUMA node, so returning NUMA node zero\n",
      "2022-05-05 06:42:32.281673: I tensorflow/stream_executor/cuda/cuda_gpu_executor.cc:937] successful NUMA node read from SysFS had negative value (-1), but there must be at least one NUMA node, so returning NUMA node zero\n",
      "2022-05-05 06:42:32.282485: I tensorflow/stream_executor/cuda/cuda_gpu_executor.cc:937] successful NUMA node read from SysFS had negative value (-1), but there must be at least one NUMA node, so returning NUMA node zero\n",
      "2022-05-05 06:42:32.283643: I tensorflow/core/platform/cpu_feature_guard.cc:142] This TensorFlow binary is optimized with oneAPI Deep Neural Network Library (oneDNN) to use the following CPU instructions in performance-critical operations:  AVX2 AVX512F FMA\n",
      "To enable them in other operations, rebuild TensorFlow with the appropriate compiler flags.\n",
      "2022-05-05 06:42:32.284795: I tensorflow/stream_executor/cuda/cuda_gpu_executor.cc:937] successful NUMA node read from SysFS had negative value (-1), but there must be at least one NUMA node, so returning NUMA node zero\n",
      "2022-05-05 06:42:32.285566: I tensorflow/stream_executor/cuda/cuda_gpu_executor.cc:937] successful NUMA node read from SysFS had negative value (-1), but there must be at least one NUMA node, so returning NUMA node zero\n",
      "2022-05-05 06:42:32.286288: I tensorflow/stream_executor/cuda/cuda_gpu_executor.cc:937] successful NUMA node read from SysFS had negative value (-1), but there must be at least one NUMA node, so returning NUMA node zero\n",
      "2022-05-05 06:42:34.148796: I tensorflow/stream_executor/cuda/cuda_gpu_executor.cc:937] successful NUMA node read from SysFS had negative value (-1), but there must be at least one NUMA node, so returning NUMA node zero\n",
      "2022-05-05 06:42:34.149798: I tensorflow/stream_executor/cuda/cuda_gpu_executor.cc:937] successful NUMA node read from SysFS had negative value (-1), but there must be at least one NUMA node, so returning NUMA node zero\n",
      "2022-05-05 06:42:34.150578: I tensorflow/stream_executor/cuda/cuda_gpu_executor.cc:937] successful NUMA node read from SysFS had negative value (-1), but there must be at least one NUMA node, so returning NUMA node zero\n",
      "2022-05-05 06:42:34.151241: I tensorflow/core/common_runtime/gpu/gpu_device.cc:1510] Created device /job:localhost/replica:0/task:0/device:GPU:0 with 15403 MB memory:  -> device: 0, name: Tesla P100-PCIE-16GB, pci bus id: 0000:00:04.0, compute capability: 6.0\n"
     ]
    }
   ],
   "source": [
    "model = Sequential()\n",
    "model.add(Embedding(vocab_size,300,input_length = max_length))\n",
    "model.add(SpatialDropout1D(0.4))\n",
    "model.add(Bidirectional(LSTM(256, dropout = 0.8, recurrent_dropout=0.8, return_sequences=True)))\n",
    "model.add(Bidirectional(LSTM(128,dropout = 0.5,recurrent_dropout=0.5,return_sequences=True)))\n",
    "model.add(Bidirectional(GRU(128,return_sequences=False)))\n",
    "model.add(Dropout(0.4))\n",
    "model.add(Dense(5,activation='softmax'))"
   ]
  },
  {
   "cell_type": "code",
   "execution_count": 19,
   "id": "e4d1e935",
   "metadata": {
    "execution": {
     "iopub.execute_input": "2022-05-05T06:42:35.457366Z",
     "iopub.status.busy": "2022-05-05T06:42:35.456485Z",
     "iopub.status.idle": "2022-05-05T06:42:35.461825Z",
     "shell.execute_reply": "2022-05-05T06:42:35.461133Z",
     "shell.execute_reply.started": "2022-05-05T06:25:33.653529Z"
    },
    "papermill": {
     "duration": 0.046071,
     "end_time": "2022-05-05T06:42:35.461991",
     "exception": false,
     "start_time": "2022-05-05T06:42:35.415920",
     "status": "completed"
    },
    "tags": []
   },
   "outputs": [
    {
     "name": "stdout",
     "output_type": "stream",
     "text": [
      "Model: \"sequential\"\n",
      "_________________________________________________________________\n",
      "Layer (type)                 Output Shape              Param #   \n",
      "=================================================================\n",
      "embedding (Embedding)        (None, 48, 300)           4119000   \n",
      "_________________________________________________________________\n",
      "spatial_dropout1d (SpatialDr (None, 48, 300)           0         \n",
      "_________________________________________________________________\n",
      "bidirectional (Bidirectional (None, 48, 512)           1140736   \n",
      "_________________________________________________________________\n",
      "bidirectional_1 (Bidirection (None, 48, 256)           656384    \n",
      "_________________________________________________________________\n",
      "bidirectional_2 (Bidirection (None, 256)               296448    \n",
      "_________________________________________________________________\n",
      "dropout (Dropout)            (None, 256)               0         \n",
      "_________________________________________________________________\n",
      "dense (Dense)                (None, 5)                 1285      \n",
      "=================================================================\n",
      "Total params: 6,213,853\n",
      "Trainable params: 6,213,853\n",
      "Non-trainable params: 0\n",
      "_________________________________________________________________\n"
     ]
    }
   ],
   "source": [
    "model.summary()"
   ]
  },
  {
   "cell_type": "code",
   "execution_count": 20,
   "id": "ec118a57",
   "metadata": {
    "execution": {
     "iopub.execute_input": "2022-05-05T06:42:35.534128Z",
     "iopub.status.busy": "2022-05-05T06:42:35.530206Z",
     "iopub.status.idle": "2022-05-05T06:42:35.540657Z",
     "shell.execute_reply": "2022-05-05T06:42:35.540079Z",
     "shell.execute_reply.started": "2022-05-05T06:25:33.667717Z"
    },
    "papermill": {
     "duration": 0.047597,
     "end_time": "2022-05-05T06:42:35.540787",
     "exception": false,
     "start_time": "2022-05-05T06:42:35.493190",
     "status": "completed"
    },
    "tags": []
   },
   "outputs": [],
   "source": [
    "model.compile(loss='categorical_crossentropy', optimizer='adam', metrics=['accuracy'])"
   ]
  },
  {
   "cell_type": "code",
   "execution_count": 21,
   "id": "40460467",
   "metadata": {
    "execution": {
     "iopub.execute_input": "2022-05-05T06:42:35.608976Z",
     "iopub.status.busy": "2022-05-05T06:42:35.608179Z",
     "iopub.status.idle": "2022-05-05T07:16:08.102442Z",
     "shell.execute_reply": "2022-05-05T07:16:08.101863Z",
     "shell.execute_reply.started": "2022-05-05T06:29:18.376340Z"
    },
    "papermill": {
     "duration": 2012.530387,
     "end_time": "2022-05-05T07:16:08.102609",
     "exception": false,
     "start_time": "2022-05-05T06:42:35.572222",
     "status": "completed"
    },
    "tags": []
   },
   "outputs": [
    {
     "name": "stderr",
     "output_type": "stream",
     "text": [
      "2022-05-05 06:42:35.673129: I tensorflow/compiler/mlir/mlir_graph_optimization_pass.cc:185] None of the MLIR Optimization Passes are enabled (registered 2)\n"
     ]
    },
    {
     "name": "stdout",
     "output_type": "stream",
     "text": [
      "Epoch 1/10\n"
     ]
    },
    {
     "name": "stderr",
     "output_type": "stream",
     "text": [
      "2022-05-05 06:42:48.403730: I tensorflow/stream_executor/cuda/cuda_dnn.cc:369] Loaded cuDNN version 8005\n"
     ]
    },
    {
     "name": "stdout",
     "output_type": "stream",
     "text": [
      "220/220 [==============================] - 205s 873ms/step - loss: 1.1484 - accuracy: 0.5439 - val_loss: 0.9509 - val_accuracy: 0.6147\n",
      "Epoch 2/10\n",
      "220/220 [==============================] - 193s 877ms/step - loss: 0.9179 - accuracy: 0.6291 - val_loss: 0.8608 - val_accuracy: 0.6520\n",
      "Epoch 3/10\n",
      "220/220 [==============================] - 194s 881ms/step - loss: 0.8431 - accuracy: 0.6572 - val_loss: 0.8325 - val_accuracy: 0.6630\n",
      "Epoch 4/10\n",
      "220/220 [==============================] - 196s 889ms/step - loss: 0.8025 - accuracy: 0.6734 - val_loss: 0.8237 - val_accuracy: 0.6647\n",
      "Epoch 5/10\n",
      "220/220 [==============================] - 194s 884ms/step - loss: 0.7765 - accuracy: 0.6828 - val_loss: 0.8197 - val_accuracy: 0.6676\n",
      "Epoch 6/10\n",
      "220/220 [==============================] - 196s 892ms/step - loss: 0.7529 - accuracy: 0.6932 - val_loss: 0.8068 - val_accuracy: 0.6718\n",
      "Epoch 7/10\n",
      "220/220 [==============================] - 197s 896ms/step - loss: 0.7335 - accuracy: 0.6999 - val_loss: 0.8059 - val_accuracy: 0.6689\n",
      "Epoch 8/10\n",
      "220/220 [==============================] - 199s 900ms/step - loss: 0.7132 - accuracy: 0.7070 - val_loss: 0.8199 - val_accuracy: 0.6675\n",
      "Epoch 9/10\n",
      "220/220 [==============================] - 199s 903ms/step - loss: 0.6967 - accuracy: 0.7137 - val_loss: 0.8156 - val_accuracy: 0.6710\n",
      "Epoch 10/10\n",
      "220/220 [==============================] - 199s 901ms/step - loss: 0.6819 - accuracy: 0.7188 - val_loss: 0.8230 - val_accuracy: 0.6690\n"
     ]
    }
   ],
   "source": [
    "history=model.fit(X_train, y_train,batch_size=512, epochs=10,verbose=1,callbacks=callback,validation_split=0.1)"
   ]
  },
  {
   "cell_type": "code",
   "execution_count": 22,
   "id": "197dcab6",
   "metadata": {
    "execution": {
     "iopub.execute_input": "2022-05-05T07:16:09.595292Z",
     "iopub.status.busy": "2022-05-05T07:16:09.592358Z",
     "iopub.status.idle": "2022-05-05T07:16:09.770760Z",
     "shell.execute_reply": "2022-05-05T07:16:09.770257Z",
     "shell.execute_reply.started": "2022-05-05T06:40:11.057388Z"
    },
    "papermill": {
     "duration": 0.901425,
     "end_time": "2022-05-05T07:16:09.770895",
     "exception": false,
     "start_time": "2022-05-05T07:16:08.869470",
     "status": "completed"
    },
    "tags": []
   },
   "outputs": [],
   "source": [
    "model.save('Model.h5')"
   ]
  },
  {
   "cell_type": "code",
   "execution_count": 23,
   "id": "778a3753",
   "metadata": {
    "execution": {
     "iopub.execute_input": "2022-05-05T07:16:11.461329Z",
     "iopub.status.busy": "2022-05-05T07:16:11.460277Z",
     "iopub.status.idle": "2022-05-05T07:16:11.662765Z",
     "shell.execute_reply": "2022-05-05T07:16:11.662109Z",
     "shell.execute_reply.started": "2022-05-05T06:40:33.231512Z"
    },
    "papermill": {
     "duration": 1.072313,
     "end_time": "2022-05-05T07:16:11.662891",
     "exception": false,
     "start_time": "2022-05-05T07:16:10.590578",
     "status": "completed"
    },
    "tags": []
   },
   "outputs": [
    {
     "data": {
      "image/png": "[encoded data removed]",
      "text/plain": [
       "<Figure size 432x288 with 1 Axes>"
      ]
     },
     "metadata": {
      "needs_background": "light"
     },
     "output_type": "display_data"
    }
   ],
   "source": [
    "loss_train = history.history['loss']\n",
    "epochs = range(1,11)\n",
    "plt.plot(epochs, loss_train, 'g', label='Training loss')\n",
    "plt.title('Training loss')\n",
    "plt.xlabel('Epochs')\n",
    "plt.ylabel('Loss')\n",
    "plt.legend()\n",
    "plt.show()\n"
   ]
  },
  {
   "cell_type": "code",
   "execution_count": 24,
   "id": "33caf3c2",
   "metadata": {
    "execution": {
     "iopub.execute_input": "2022-05-05T07:16:13.119287Z",
     "iopub.status.busy": "2022-05-05T07:16:13.117216Z",
     "iopub.status.idle": "2022-05-05T07:16:13.301864Z",
     "shell.execute_reply": "2022-05-05T07:16:13.302461Z",
     "shell.execute_reply.started": "2022-05-05T06:40:37.791027Z"
    },
    "papermill": {
     "duration": 0.911309,
     "end_time": "2022-05-05T07:16:13.302634",
     "exception": false,
     "start_time": "2022-05-05T07:16:12.391325",
     "status": "completed"
    },
    "tags": []
   },
   "outputs": [
    {
     "data": {
      "image/png": "[encoded data removed]",
      "text/plain": [
       "<Figure size 432x288 with 1 Axes>"
      ]
     },
     "metadata": {
      "needs_background": "light"
     },
     "output_type": "display_data"
    }
   ],
   "source": [
    "accuracy_train = history.history['accuracy']\n",
    "epochs = range(1,11)\n",
    "plt.plot(epochs, accuracy_train, 'g', label='Training Accuracy')\n",
    "plt.title('Training Accuracy')\n",
    "plt.xlabel('Epochs')\n",
    "plt.ylabel('Accuracy')\n",
    "plt.legend()\n",
    "plt.show()"
   ]
  },
  {
   "cell_type": "code",
   "execution_count": 25,
   "id": "7921ffa0",
   "metadata": {
    "execution": {
     "iopub.execute_input": "2022-05-05T07:16:14.744679Z",
     "iopub.status.busy": "2022-05-05T07:16:14.743253Z",
     "iopub.status.idle": "2022-05-05T07:18:37.772235Z",
     "shell.execute_reply": "2022-05-05T07:18:37.771744Z",
     "shell.execute_reply.started": "2022-05-05T06:36:08.646733Z"
    },
    "papermill": {
     "duration": 143.748271,
     "end_time": "2022-05-05T07:18:37.772372",
     "exception": false,
     "start_time": "2022-05-05T07:16:14.024101",
     "status": "completed"
    },
    "tags": []
   },
   "outputs": [],
   "source": [
    "predict_x=model.predict(X_test) \n",
    "classes_x=np.argmax(predict_x,axis=1)"
   ]
  },
  {
   "cell_type": "code",
   "execution_count": 26,
   "id": "c36e0f3f",
   "metadata": {
    "execution": {
     "iopub.execute_input": "2022-05-05T07:18:39.209721Z",
     "iopub.status.busy": "2022-05-05T07:18:39.209047Z",
     "iopub.status.idle": "2022-05-05T07:18:39.211806Z",
     "shell.execute_reply": "2022-05-05T07:18:39.212206Z",
     "shell.execute_reply.started": "2022-05-05T06:27:08.014580Z"
    },
    "papermill": {
     "duration": 0.723071,
     "end_time": "2022-05-05T07:18:39.212336",
     "exception": false,
     "start_time": "2022-05-05T07:18:38.489265",
     "status": "completed"
    },
    "tags": []
   },
   "outputs": [
    {
     "data": {
      "text/plain": [
       "array([2, 2, 2, ..., 1, 1, 1])"
      ]
     },
     "execution_count": 26,
     "metadata": {},
     "output_type": "execute_result"
    }
   ],
   "source": [
    "classes_x"
   ]
  },
  {
   "cell_type": "code",
   "execution_count": 27,
   "id": "2e63ec82",
   "metadata": {
    "execution": {
     "iopub.execute_input": "2022-05-05T07:18:40.660071Z",
     "iopub.status.busy": "2022-05-05T07:18:40.659246Z",
     "iopub.status.idle": "2022-05-05T07:18:40.664852Z",
     "shell.execute_reply": "2022-05-05T07:18:40.664412Z",
     "shell.execute_reply.started": "2022-05-05T06:27:08.016330Z"
    },
    "papermill": {
     "duration": 0.735963,
     "end_time": "2022-05-05T07:18:40.664971",
     "exception": false,
     "start_time": "2022-05-05T07:18:39.929008",
     "status": "completed"
    },
    "tags": []
   },
   "outputs": [
    {
     "data": {
      "text/plain": [
       "array([0, 1, 2, 3, 4])"
      ]
     },
     "execution_count": 27,
     "metadata": {},
     "output_type": "execute_result"
    }
   ],
   "source": [
    "np.unique(classes_x)"
   ]
  },
  {
   "cell_type": "code",
   "execution_count": 28,
   "id": "0d09896c",
   "metadata": {
    "execution": {
     "iopub.execute_input": "2022-05-05T07:18:42.141803Z",
     "iopub.status.busy": "2022-05-05T07:18:42.141080Z",
     "iopub.status.idle": "2022-05-05T07:18:42.274104Z",
     "shell.execute_reply": "2022-05-05T07:18:42.273445Z",
     "shell.execute_reply.started": "2022-05-05T06:27:08.018098Z"
    },
    "papermill": {
     "duration": 0.884131,
     "end_time": "2022-05-05T07:18:42.274252",
     "exception": false,
     "start_time": "2022-05-05T07:18:41.390121",
     "status": "completed"
    },
    "tags": []
   },
   "outputs": [],
   "source": [
    "submission_file =pd.read_csv('/kaggle/input/sentiment-analysis-on-movie-reviews/sampleSubmission.csv',sep=',')\n",
    "submission_file['Sentiment']=classes_x\n",
    "submission_file.to_csv('Submission_DeepLearning.csv',index=False)"
   ]
  },
  {
   "cell_type": "code",
   "execution_count": null,
   "id": "09180743",
   "metadata": {
    "papermill": {
     "duration": 0.72051,
     "end_time": "2022-05-05T07:18:43.715563",
     "exception": false,
     "start_time": "2022-05-05T07:18:42.995053",
     "status": "completed"
    },
    "tags": []
   },
   "outputs": [],
   "source": []
  }
 ],
 "metadata": {
  "kernelspec": {
   "display_name": "Python 3",
   "language": "python",
   "name": "python3"
  },
  "language_info": {
   "codemirror_mode": {
    "name": "ipython",
    "version": 3
   },
   "file_extension": ".py",
   "mimetype": "text/x-python",
   "name": "python",
   "nbconvert_exporter": "python",
   "pygments_lexer": "ipython3",
   "version": "3.7.12"
  },
  "papermill": {
   "default_parameters": {},
   "duration": 2235.047179,
   "end_time": "2022-05-05T07:18:47.930624",
   "environment_variables": {},
   "exception": null,
   "input_path": "__notebook__.ipynb",
   "output_path": "__notebook__.ipynb",
   "parameters": {},
   "start_time": "2022-05-05T06:41:32.883445",
   "version": "2.3.3"
  }
 },
 "nbformat": 4,
 "nbformat_minor": 5
}
