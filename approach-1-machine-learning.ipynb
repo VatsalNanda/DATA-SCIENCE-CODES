{
 "cells": [
  {
   "cell_type": "code",
   "execution_count": 1,
   "id": "cd55f224",
   "metadata": {
    "_cell_guid": "b1076dfc-b9ad-4769-8c92-a6c4dae69d19",
    "_uuid": "8f2839f25d086af736a60e9eeb907d3b93b6e0e5",
    "execution": {
     "iopub.execute_input": "2022-05-04T10:17:00.827746Z",
     "iopub.status.busy": "2022-05-04T10:17:00.827377Z",
     "iopub.status.idle": "2022-05-04T10:17:00.838923Z",
     "shell.execute_reply": "2022-05-04T10:17:00.838076Z"
    },
    "papermill": {
     "duration": 0.036864,
     "end_time": "2022-05-04T10:17:00.840952",
     "exception": false,
     "start_time": "2022-05-04T10:17:00.804088",
     "status": "completed"
    },
    "tags": []
   },
   "outputs": [
    {
     "name": "stdout",
     "output_type": "stream",
     "text": [
      "/kaggle/input/sentiment-analysis-on-movie-reviews/sampleSubmission.csv\n",
      "/kaggle/input/sentiment-analysis-on-movie-reviews/train.tsv.zip\n",
      "/kaggle/input/sentiment-analysis-on-movie-reviews/test.tsv.zip\n"
     ]
    }
   ],
   "source": [
    "# This Python 3 environment comes with many helpful analytics libraries installed\n",
    "# It is defined by the kaggle/python Docker image: https://github.com/kaggle/docker-python\n",
    "# For example, here's several helpful packages to load\n",
    "\n",
    "import numpy as np # linear algebra\n",
    "import pandas as pd # data processing, CSV file I/O (e.g. pd.read_csv)\n",
    "\n",
    "# Input data files are available in the read-only \"../input/\" directory\n",
    "# For example, running this (by clicking run or pressing Shift+Enter) will list all files under the input directory\n",
    "\n",
    "import os\n",
    "for dirname, _, filenames in os.walk('/kaggle/input'):\n",
    "    for filename in filenames:\n",
    "        print(os.path.join(dirname, filename))\n",
    "\n",
    "# You can write up to 20GB to the current directory (/kaggle/working/) that gets preserved as output when you create a version using \"Save & Run All\" \n",
    "# You can also write temporary files to /kaggle/temp/, but they won't be saved outside of the current session"
   ]
  },
  {
   "cell_type": "code",
   "execution_count": 2,
   "id": "41cd683a",
   "metadata": {
    "execution": {
     "iopub.execute_input": "2022-05-04T10:17:00.882583Z",
     "iopub.status.busy": "2022-05-04T10:17:00.882298Z",
     "iopub.status.idle": "2022-05-04T10:17:08.704738Z",
     "shell.execute_reply": "2022-05-04T10:17:08.703932Z"
    },
    "papermill": {
     "duration": 7.845171,
     "end_time": "2022-05-04T10:17:08.706986",
     "exception": false,
     "start_time": "2022-05-04T10:17:00.861815",
     "status": "completed"
    },
    "tags": []
   },
   "outputs": [],
   "source": [
    "import pandas as pd\n",
    "import numpy as np \n",
    "import matplotlib.pyplot as plt\n",
    "import seaborn as sns\n",
    "\n",
    "\n",
    "#Text Preprocessing Libraries\n",
    "import nltk\n",
    "from nltk.corpus import stopwords\n",
    "from nltk.stem.porter import PorterStemmer\n",
    "from nltk.tokenize import word_tokenize\n",
    "from sklearn.feature_extraction.text import TfidfVectorizer,CountVectorizer\n",
    "import re\n",
    "import string\n",
    "from sklearn.preprocessing import LabelEncoder\n",
    "from sklearn.model_selection import train_test_split\n",
    "\n",
    "from nltk.tokenize import word_tokenize\n",
    "from nltk import FreqDist\n",
    "from nltk.stem import SnowballStemmer,WordNetLemmatizer\n",
    "\n",
    "#Deep Learning Libraries\n",
    "import keras\n",
    "from tensorflow.keras.preprocessing import sequence\n",
    "from tensorflow.keras.models import Sequential\n",
    "from tensorflow.keras.layers import Dense, Embedding\n",
    "from tensorflow.keras.layers import LSTM,GRU\n",
    "from tensorflow.keras.utils import to_categorical\n",
    "from tensorflow.keras.preprocessing.text import Tokenizer\n",
    "from tensorflow.keras.preprocessing.sequence import pad_sequences\n",
    "from keras.models import Sequential\n",
    "from keras.layers import Dense\n",
    "from keras.layers import LSTM\n",
    "from keras.layers import Activation\n",
    "from keras.layers import Embedding\n",
    "from keras.layers import Bidirectional\n",
    "from tensorflow.keras.optimizers import Adam\n",
    "from keras.preprocessing import sequence\n",
    "from keras.preprocessing.text import Tokenizer\n",
    "from keras.layers import Dense,Dropout,Embedding,LSTM\n",
    "from keras.callbacks import EarlyStopping\n",
    "from keras.losses import categorical_crossentropy\n",
    "from tensorflow.keras.optimizers import Adam\n",
    "from keras.models import Sequential\n",
    "import tensorflow_hub as hub\n",
    "from keras.models import Sequential\n",
    "from keras.layers import Dense, LSTM, Conv1D, MaxPool1D, Dropout\n",
    "from keras.layers.embeddings import Embedding\n",
    "from keras.callbacks import EarlyStopping"
   ]
  },
  {
   "cell_type": "code",
   "execution_count": 3,
   "id": "2083c859",
   "metadata": {
    "execution": {
     "iopub.execute_input": "2022-05-04T10:17:08.746541Z",
     "iopub.status.busy": "2022-05-04T10:17:08.746256Z",
     "iopub.status.idle": "2022-05-04T10:17:09.122225Z",
     "shell.execute_reply": "2022-05-04T10:17:09.121553Z"
    },
    "papermill": {
     "duration": 0.39814,
     "end_time": "2022-05-04T10:17:09.124348",
     "exception": false,
     "start_time": "2022-05-04T10:17:08.726208",
     "status": "completed"
    },
    "tags": []
   },
   "outputs": [],
   "source": [
    "train=pd.read_csv('/kaggle/input/sentiment-analysis-on-movie-reviews/train.tsv.zip',sep='\\t')\n",
    "test=pd.read_csv('/kaggle/input/sentiment-analysis-on-movie-reviews/test.tsv.zip',sep='\\t')"
   ]
  },
  {
   "cell_type": "code",
   "execution_count": 4,
   "id": "75b3bb38",
   "metadata": {
    "execution": {
     "iopub.execute_input": "2022-05-04T10:17:09.163842Z",
     "iopub.status.busy": "2022-05-04T10:17:09.163395Z",
     "iopub.status.idle": "2022-05-04T10:17:09.181703Z",
     "shell.execute_reply": "2022-05-04T10:17:09.180921Z"
    },
    "papermill": {
     "duration": 0.040125,
     "end_time": "2022-05-04T10:17:09.183559",
     "exception": false,
     "start_time": "2022-05-04T10:17:09.143434",
     "status": "completed"
    },
    "tags": []
   },
   "outputs": [
    {
     "data": {
      "text/plain": [
       "2    79582\n",
       "3    32927\n",
       "1    27273\n",
       "4     9206\n",
       "0     7072\n",
       "Name: Sentiment, dtype: int64"
      ]
     },
     "execution_count": 4,
     "metadata": {},
     "output_type": "execute_result"
    }
   ],
   "source": [
    "train['Sentiment'].value_counts()"
   ]
  },
  {
   "cell_type": "code",
   "execution_count": 5,
   "id": "2bb569fe",
   "metadata": {
    "execution": {
     "iopub.execute_input": "2022-05-04T10:17:09.224885Z",
     "iopub.status.busy": "2022-05-04T10:17:09.224573Z",
     "iopub.status.idle": "2022-05-04T10:17:09.230205Z",
     "shell.execute_reply": "2022-05-04T10:17:09.229440Z"
    },
    "papermill": {
     "duration": 0.027944,
     "end_time": "2022-05-04T10:17:09.231973",
     "exception": false,
     "start_time": "2022-05-04T10:17:09.204029",
     "status": "completed"
    },
    "tags": []
   },
   "outputs": [],
   "source": [
    "def clean_sentences(df):\n",
    "    reviews = []\n",
    "    \n",
    "    for sent in df['Phrase']:       \n",
    "        #remove non-alphabetic characters\n",
    "        review_text = re.sub(\"[^a-zA-Z]\",\" \", sent)\n",
    "        \n",
    "        #tokenize the sentences\n",
    "        words = word_tokenize(review_text.lower())\n",
    "        \n",
    "        #lemmatize each word to its lemma\n",
    "        lemmatizer = WordNetLemmatizer()\n",
    "        lemma_words = [lemmatizer.lemmatize(i) for i in words]\n",
    "        \n",
    "        reviews.append(lemma_words)\n",
    "    \n",
    "    return(reviews)"
   ]
  },
  {
   "cell_type": "code",
   "execution_count": 6,
   "id": "1adddc5e",
   "metadata": {
    "execution": {
     "iopub.execute_input": "2022-05-04T10:17:09.272989Z",
     "iopub.status.busy": "2022-05-04T10:17:09.272539Z",
     "iopub.status.idle": "2022-05-04T10:17:38.820909Z",
     "shell.execute_reply": "2022-05-04T10:17:38.819972Z"
    },
    "papermill": {
     "duration": 29.572704,
     "end_time": "2022-05-04T10:17:38.824817",
     "exception": false,
     "start_time": "2022-05-04T10:17:09.252113",
     "status": "completed"
    },
    "tags": []
   },
   "outputs": [
    {
     "name": "stdout",
     "output_type": "stream",
     "text": [
      "156060\n",
      "66292\n"
     ]
    }
   ],
   "source": [
    "train_sentences = clean_sentences(train)\n",
    "test_sentences = clean_sentences(test)\n",
    "\n",
    "print(len(train_sentences))\n",
    "print(len(test_sentences))"
   ]
  },
  {
   "cell_type": "code",
   "execution_count": 7,
   "id": "11adda18",
   "metadata": {
    "execution": {
     "iopub.execute_input": "2022-05-04T10:17:38.869641Z",
     "iopub.status.busy": "2022-05-04T10:17:38.868875Z",
     "iopub.status.idle": "2022-05-04T10:17:38.873395Z",
     "shell.execute_reply": "2022-05-04T10:17:38.872855Z"
    },
    "papermill": {
     "duration": 0.027625,
     "end_time": "2022-05-04T10:17:38.874947",
     "exception": false,
     "start_time": "2022-05-04T10:17:38.847322",
     "status": "completed"
    },
    "tags": []
   },
   "outputs": [
    {
     "name": "stdout",
     "output_type": "stream",
     "text": [
      "A series of escapades demonstrating the adage that what is good for the goose is also good for the gander , some of which occasionally amuses but none of which amounts to much of a story .\n",
      "a series of escapade demonstrating the adage that what is good for the goose is also good for the gander some of which occasionally amuses but none of which amount to much of a story\n"
     ]
    }
   ],
   "source": [
    "print(train['Phrase'][0])\n",
    "print(' '.join(train_sentences[0]))"
   ]
  },
  {
   "cell_type": "code",
   "execution_count": 8,
   "id": "6acf7bd9",
   "metadata": {
    "execution": {
     "iopub.execute_input": "2022-05-04T10:17:38.917717Z",
     "iopub.status.busy": "2022-05-04T10:17:38.917225Z",
     "iopub.status.idle": "2022-05-04T10:17:38.925308Z",
     "shell.execute_reply": "2022-05-04T10:17:38.924726Z"
    },
    "papermill": {
     "duration": 0.032755,
     "end_time": "2022-05-04T10:17:38.927067",
     "exception": false,
     "start_time": "2022-05-04T10:17:38.894312",
     "status": "completed"
    },
    "tags": []
   },
   "outputs": [],
   "source": [
    "from tensorflow.keras.utils import to_categorical\n",
    "\n",
    "target = train.Sentiment.values\n",
    "y_target = to_categorical(target)\n",
    "\n",
    "# number of numerical values exist in y_target's column\n",
    "num_classes = y_target.shape[1]"
   ]
  },
  {
   "cell_type": "code",
   "execution_count": 9,
   "id": "633ebaf8",
   "metadata": {
    "execution": {
     "iopub.execute_input": "2022-05-04T10:17:38.969166Z",
     "iopub.status.busy": "2022-05-04T10:17:38.968649Z",
     "iopub.status.idle": "2022-05-04T10:17:38.972607Z",
     "shell.execute_reply": "2022-05-04T10:17:38.972107Z"
    },
    "papermill": {
     "duration": 0.02767,
     "end_time": "2022-05-04T10:17:38.974906",
     "exception": false,
     "start_time": "2022-05-04T10:17:38.947236",
     "status": "completed"
    },
    "tags": []
   },
   "outputs": [
    {
     "name": "stdout",
     "output_type": "stream",
     "text": [
      "5\n"
     ]
    }
   ],
   "source": [
    "print(num_classes)"
   ]
  },
  {
   "cell_type": "code",
   "execution_count": 10,
   "id": "c1099a78",
   "metadata": {
    "execution": {
     "iopub.execute_input": "2022-05-04T10:17:39.017327Z",
     "iopub.status.busy": "2022-05-04T10:17:39.016781Z",
     "iopub.status.idle": "2022-05-04T10:17:39.020355Z",
     "shell.execute_reply": "2022-05-04T10:17:39.019788Z"
    },
    "papermill": {
     "duration": 0.026339,
     "end_time": "2022-05-04T10:17:39.022054",
     "exception": false,
     "start_time": "2022-05-04T10:17:38.995715",
     "status": "completed"
    },
    "tags": []
   },
   "outputs": [],
   "source": [
    "from sklearn.model_selection import train_test_split\n"
   ]
  },
  {
   "cell_type": "code",
   "execution_count": 11,
   "id": "eba8f167",
   "metadata": {
    "execution": {
     "iopub.execute_input": "2022-05-04T10:17:39.064565Z",
     "iopub.status.busy": "2022-05-04T10:17:39.064052Z",
     "iopub.status.idle": "2022-05-04T10:17:40.121197Z",
     "shell.execute_reply": "2022-05-04T10:17:40.120260Z"
    },
    "papermill": {
     "duration": 1.081672,
     "end_time": "2022-05-04T10:17:40.123520",
     "exception": false,
     "start_time": "2022-05-04T10:17:39.041848",
     "status": "completed"
    },
    "tags": []
   },
   "outputs": [],
   "source": [
    "X_train, X_val, y_train, y_val = train_test_split(train_sentences,\n",
    "                                                  y_target,\n",
    "                                                  test_size = 0.2,\n",
    "                                                  stratify = y_target)"
   ]
  },
  {
   "cell_type": "code",
   "execution_count": 12,
   "id": "d7afdbdb",
   "metadata": {
    "execution": {
     "iopub.execute_input": "2022-05-04T10:17:40.164892Z",
     "iopub.status.busy": "2022-05-04T10:17:40.164585Z",
     "iopub.status.idle": "2022-05-04T10:17:40.323892Z",
     "shell.execute_reply": "2022-05-04T10:17:40.322988Z"
    },
    "papermill": {
     "duration": 0.182781,
     "end_time": "2022-05-04T10:17:40.326350",
     "exception": false,
     "start_time": "2022-05-04T10:17:40.143569",
     "status": "completed"
    },
    "tags": []
   },
   "outputs": [
    {
     "name": "stdout",
     "output_type": "stream",
     "text": [
      "Number of vocabs:  13741\n",
      "Max length of text is:  48\n"
     ]
    }
   ],
   "source": [
    "unique_words = set()\n",
    "len_max = 0\n",
    "\n",
    "for sent in (X_train):\n",
    "    unique_words.update(sent)\n",
    "    if(len_max < len(sent)):\n",
    "        len_max = len(sent)\n",
    "\n",
    "# length of the list of unique_words \n",
    "print('Number of vocabs: ', len(list(unique_words)))\n",
    "print('Max length of text is: ', len_max)"
   ]
  },
  {
   "cell_type": "code",
   "execution_count": 13,
   "id": "796d13b5",
   "metadata": {
    "execution": {
     "iopub.execute_input": "2022-05-04T10:17:40.371317Z",
     "iopub.status.busy": "2022-05-04T10:17:40.370787Z",
     "iopub.status.idle": "2022-05-04T10:17:40.377101Z",
     "shell.execute_reply": "2022-05-04T10:17:40.376353Z"
    },
    "papermill": {
     "duration": 0.031358,
     "end_time": "2022-05-04T10:17:40.379622",
     "exception": false,
     "start_time": "2022-05-04T10:17:40.348264",
     "status": "completed"
    },
    "tags": []
   },
   "outputs": [],
   "source": [
    "vocab_size = len(list(unique_words))\n",
    "embedding_dim = 300\n",
    "max_length = len_max\n",
    "trunc_type='post'\n",
    "padding_type='post'\n",
    "oov_tok = \"<OOV>\""
   ]
  },
  {
   "cell_type": "code",
   "execution_count": 14,
   "id": "2c123e06",
   "metadata": {
    "execution": {
     "iopub.execute_input": "2022-05-04T10:17:40.422814Z",
     "iopub.status.busy": "2022-05-04T10:17:40.422539Z",
     "iopub.status.idle": "2022-05-04T10:17:43.072608Z",
     "shell.execute_reply": "2022-05-04T10:17:43.071737Z"
    },
    "papermill": {
     "duration": 2.673941,
     "end_time": "2022-05-04T10:17:43.074922",
     "exception": false,
     "start_time": "2022-05-04T10:17:40.400981",
     "status": "completed"
    },
    "tags": []
   },
   "outputs": [],
   "source": [
    "tokenizer = Tokenizer(num_words = vocab_size,\n",
    "                      # filters = '#$%&()*+,-./:;<=>?@[\\\\]^_`{|}~\\t\\n',\n",
    "                      oov_token = oov_tok,\n",
    "                      # lower = True,\n",
    "                      char_level = False)\n",
    "\n",
    "tokenizer.fit_on_texts(list(X_train))\n",
    "\n",
    "# Training\n",
    "X_train = tokenizer.texts_to_sequences(X_train)\n",
    "X_train = pad_sequences(X_train,\n",
    "                        maxlen = max_length,\n",
    "                        padding = padding_type,\n",
    "                        truncating = trunc_type)\n",
    "\n",
    "# Validation\n",
    "X_val = tokenizer.texts_to_sequences(X_val)\n",
    "X_val = pad_sequences(X_val,\n",
    "                      maxlen = max_length,\n",
    "                      padding = padding_type,\n",
    "                      truncating = trunc_type)\n",
    "\n",
    "# Testing\n",
    "X_test = tokenizer.texts_to_sequences(test_sentences)\n",
    "X_test = pad_sequences(X_test,\n",
    "                       maxlen = max_length,\n",
    "                       padding = padding_type,\n",
    "                       truncating = trunc_type)"
   ]
  },
  {
   "cell_type": "code",
   "execution_count": 15,
   "id": "c63cfa13",
   "metadata": {
    "execution": {
     "iopub.execute_input": "2022-05-04T10:17:43.116895Z",
     "iopub.status.busy": "2022-05-04T10:17:43.116472Z",
     "iopub.status.idle": "2022-05-04T10:17:43.122538Z",
     "shell.execute_reply": "2022-05-04T10:17:43.121471Z"
    },
    "papermill": {
     "duration": 0.029419,
     "end_time": "2022-05-04T10:17:43.124509",
     "exception": false,
     "start_time": "2022-05-04T10:17:43.095090",
     "status": "completed"
    },
    "tags": []
   },
   "outputs": [
    {
     "name": "stdout",
     "output_type": "stream",
     "text": [
      "X_training shape   :  (124848, 48)\n",
      "X_validation shape :  (31212, 48)\n",
      "X_testing shape    :  (66292, 48)\n"
     ]
    }
   ],
   "source": [
    "print(\"X_training shape   : \",X_train.shape)\n",
    "print(\"X_validation shape : \",X_val.shape)\n",
    "print(\"X_testing shape    : \",X_test.shape)"
   ]
  },
  {
   "cell_type": "markdown",
   "id": "a5080e50",
   "metadata": {
    "papermill": {
     "duration": 0.020089,
     "end_time": "2022-05-04T10:17:43.164905",
     "exception": false,
     "start_time": "2022-05-04T10:17:43.144816",
     "status": "completed"
    },
    "tags": []
   },
   "source": [
    "**1) MACHINE LEARNING APPROACH**"
   ]
  },
  {
   "cell_type": "code",
   "execution_count": 16,
   "id": "fea3249f",
   "metadata": {
    "execution": {
     "iopub.execute_input": "2022-05-04T10:17:43.206769Z",
     "iopub.status.busy": "2022-05-04T10:17:43.206498Z",
     "iopub.status.idle": "2022-05-04T10:17:43.423717Z",
     "shell.execute_reply": "2022-05-04T10:17:43.422855Z"
    },
    "papermill": {
     "duration": 0.240861,
     "end_time": "2022-05-04T10:17:43.426067",
     "exception": false,
     "start_time": "2022-05-04T10:17:43.185206",
     "status": "completed"
    },
    "tags": []
   },
   "outputs": [],
   "source": [
    "#Machine Learning-sklearn libraries\n",
    "from sklearn.linear_model import LogisticRegression\n",
    "from sklearn.ensemble import RandomForestClassifier\n",
    "from sklearn.naive_bayes import GaussianNB\n",
    "from sklearn.neighbors import KNeighborsClassifier\n",
    "from sklearn import svm\n",
    "from xgboost import XGBClassifier\n",
    "from sklearn import metrics\n",
    "from sklearn.model_selection import train_test_split\n",
    "from sklearn.metrics import confusion_matrix,accuracy_score,roc_auc_score,roc_curve,auc,f1_score"
   ]
  },
  {
   "cell_type": "code",
   "execution_count": 17,
   "id": "defb9905",
   "metadata": {
    "execution": {
     "iopub.execute_input": "2022-05-04T10:17:43.468274Z",
     "iopub.status.busy": "2022-05-04T10:17:43.468028Z",
     "iopub.status.idle": "2022-05-04T10:17:43.472005Z",
     "shell.execute_reply": "2022-05-04T10:17:43.471163Z"
    },
    "papermill": {
     "duration": 0.027321,
     "end_time": "2022-05-04T10:17:43.473861",
     "exception": false,
     "start_time": "2022-05-04T10:17:43.446540",
     "status": "completed"
    },
    "tags": []
   },
   "outputs": [],
   "source": [
    "rf_sklearn = RandomForestClassifier(n_estimators=100,random_state=42,criterion='gini', n_jobs = -1,oob_score=True)"
   ]
  },
  {
   "cell_type": "code",
   "execution_count": 18,
   "id": "f1e2a2c9",
   "metadata": {
    "execution": {
     "iopub.execute_input": "2022-05-04T10:17:43.516561Z",
     "iopub.status.busy": "2022-05-04T10:17:43.516271Z",
     "iopub.status.idle": "2022-05-04T10:18:07.726189Z",
     "shell.execute_reply": "2022-05-04T10:18:07.725229Z"
    },
    "papermill": {
     "duration": 24.234847,
     "end_time": "2022-05-04T10:18:07.728787",
     "exception": false,
     "start_time": "2022-05-04T10:17:43.493940",
     "status": "completed"
    },
    "tags": []
   },
   "outputs": [
    {
     "data": {
      "text/plain": [
       "RandomForestClassifier(n_jobs=-1, oob_score=True, random_state=42)"
      ]
     },
     "execution_count": 18,
     "metadata": {},
     "output_type": "execute_result"
    }
   ],
   "source": [
    "rf_sklearn.fit(X_train,y_train)"
   ]
  },
  {
   "cell_type": "code",
   "execution_count": 19,
   "id": "783afc9e",
   "metadata": {
    "execution": {
     "iopub.execute_input": "2022-05-04T10:18:07.773744Z",
     "iopub.status.busy": "2022-05-04T10:18:07.773193Z",
     "iopub.status.idle": "2022-05-04T10:18:09.495442Z",
     "shell.execute_reply": "2022-05-04T10:18:09.494608Z"
    },
    "papermill": {
     "duration": 1.747651,
     "end_time": "2022-05-04T10:18:09.498048",
     "exception": false,
     "start_time": "2022-05-04T10:18:07.750397",
     "status": "completed"
    },
    "tags": []
   },
   "outputs": [],
   "source": [
    "rf_sklearn_predict=rf_sklearn.predict(X_test)"
   ]
  },
  {
   "cell_type": "code",
   "execution_count": 20,
   "id": "cb257b2c",
   "metadata": {
    "execution": {
     "iopub.execute_input": "2022-05-04T10:18:09.541423Z",
     "iopub.status.busy": "2022-05-04T10:18:09.540888Z",
     "iopub.status.idle": "2022-05-04T10:18:09.545635Z",
     "shell.execute_reply": "2022-05-04T10:18:09.545083Z"
    },
    "papermill": {
     "duration": 0.028459,
     "end_time": "2022-05-04T10:18:09.547375",
     "exception": false,
     "start_time": "2022-05-04T10:18:09.518916",
     "status": "completed"
    },
    "tags": []
   },
   "outputs": [],
   "source": [
    "classes_x=np.argmax(rf_sklearn_predict,axis=1)"
   ]
  },
  {
   "cell_type": "code",
   "execution_count": 21,
   "id": "98619f77",
   "metadata": {
    "execution": {
     "iopub.execute_input": "2022-05-04T10:18:09.590529Z",
     "iopub.status.busy": "2022-05-04T10:18:09.590131Z",
     "iopub.status.idle": "2022-05-04T10:18:09.595543Z",
     "shell.execute_reply": "2022-05-04T10:18:09.594704Z"
    },
    "papermill": {
     "duration": 0.029165,
     "end_time": "2022-05-04T10:18:09.597426",
     "exception": false,
     "start_time": "2022-05-04T10:18:09.568261",
     "status": "completed"
    },
    "tags": []
   },
   "outputs": [
    {
     "data": {
      "text/plain": [
       "array([0, 0, 2, ..., 2, 2, 2])"
      ]
     },
     "execution_count": 21,
     "metadata": {},
     "output_type": "execute_result"
    }
   ],
   "source": [
    "classes_x"
   ]
  },
  {
   "cell_type": "code",
   "execution_count": 22,
   "id": "fdd64681",
   "metadata": {
    "execution": {
     "iopub.execute_input": "2022-05-04T10:18:09.641943Z",
     "iopub.status.busy": "2022-05-04T10:18:09.641487Z",
     "iopub.status.idle": "2022-05-04T10:18:09.648946Z",
     "shell.execute_reply": "2022-05-04T10:18:09.648350Z"
    },
    "papermill": {
     "duration": 0.032489,
     "end_time": "2022-05-04T10:18:09.650694",
     "exception": false,
     "start_time": "2022-05-04T10:18:09.618205",
     "status": "completed"
    },
    "tags": []
   },
   "outputs": [
    {
     "data": {
      "text/plain": [
       "array([0, 1, 2, 3, 4])"
      ]
     },
     "execution_count": 22,
     "metadata": {},
     "output_type": "execute_result"
    }
   ],
   "source": [
    "np.unique(classes_x)"
   ]
  },
  {
   "cell_type": "code",
   "execution_count": 23,
   "id": "53573e74",
   "metadata": {
    "execution": {
     "iopub.execute_input": "2022-05-04T10:18:09.696256Z",
     "iopub.status.busy": "2022-05-04T10:18:09.695725Z",
     "iopub.status.idle": "2022-05-04T10:18:09.797362Z",
     "shell.execute_reply": "2022-05-04T10:18:09.796410Z"
    },
    "papermill": {
     "duration": 0.127495,
     "end_time": "2022-05-04T10:18:09.799606",
     "exception": false,
     "start_time": "2022-05-04T10:18:09.672111",
     "status": "completed"
    },
    "tags": []
   },
   "outputs": [],
   "source": [
    "submission_file =pd.read_csv('/kaggle/input/sentiment-analysis-on-movie-reviews/sampleSubmission.csv',sep=',')\n",
    "submission_file['Sentiment']=classes_x\n",
    "submission_file.to_csv('Submission_RandomForest_sklearn.csv',index=False)"
   ]
  },
  {
   "cell_type": "code",
   "execution_count": null,
   "id": "8070abb9",
   "metadata": {
    "papermill": {
     "duration": 0.021,
     "end_time": "2022-05-04T10:18:09.842619",
     "exception": false,
     "start_time": "2022-05-04T10:18:09.821619",
     "status": "completed"
    },
    "tags": []
   },
   "outputs": [],
   "source": []
  }
 ],
 "metadata": {
  "kernelspec": {
   "display_name": "Python 3",
   "language": "python",
   "name": "python3"
  },
  "language_info": {
   "codemirror_mode": {
    "name": "ipython",
    "version": 3
   },
   "file_extension": ".py",
   "mimetype": "text/x-python",
   "name": "python",
   "nbconvert_exporter": "python",
   "pygments_lexer": "ipython3",
   "version": "3.7.12"
  },
  "papermill": {
   "default_parameters": {},
   "duration": 81.66365,
   "end_time": "2022-05-04T10:18:13.230149",
   "environment_variables": {},
   "exception": null,
   "input_path": "__notebook__.ipynb",
   "output_path": "__notebook__.ipynb",
   "parameters": {},
   "start_time": "2022-05-04T10:16:51.566499",
   "version": "2.3.4"
  }
 },
 "nbformat": 4,
 "nbformat_minor": 5
}
